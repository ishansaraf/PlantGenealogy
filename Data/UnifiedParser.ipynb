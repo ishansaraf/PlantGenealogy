{
 "cells": [
  {
   "cell_type": "code",
   "execution_count": 1,
   "metadata": {},
   "outputs": [],
   "source": [
    "from requests import get\n",
    "from requests.exceptions import RequestException\n",
    "from contextlib import closing\n",
    "from bs4 import BeautifulSoup\n",
    "import re\n",
    "import csv"
   ]
  },
  {
   "cell_type": "markdown",
   "metadata": {},
   "source": [
    "# Setup Parsing Functions"
   ]
  },
  {
   "cell_type": "code",
   "execution_count": 2,
   "metadata": {},
   "outputs": [],
   "source": [
    "def simple_get(url):\n",
    "    \"\"\"\n",
    "    Attempts to get the content at `url` by making an HTTP GET request.\n",
    "    If the content-type of response is some kind of HTML/XML, return the\n",
    "    text content, otherwise return None.\n",
    "    \"\"\"\n",
    "    try:\n",
    "        with closing(get(url, stream=True)) as resp:\n",
    "            if is_good_response(resp):\n",
    "                return resp.content\n",
    "            else:\n",
    "                print('error')\n",
    "                return None\n",
    "\n",
    "    except RequestException as e:\n",
    "        log_error('Error during requests to {0} : {1}'.format(url, str(e)))\n",
    "        return None"
   ]
  },
  {
   "cell_type": "code",
   "execution_count": 3,
   "metadata": {},
   "outputs": [],
   "source": [
    "def is_good_response(resp):\n",
    "    \"\"\"\n",
    "    Returns True if the response seems to be HTML, False otherwise.\n",
    "    \"\"\"\n",
    "    content_type = resp.headers['Content-Type'].lower()\n",
    "    return (resp.status_code == 200 \n",
    "            and content_type is not None \n",
    "            and content_type.find('html') > -1)"
   ]
  },
  {
   "cell_type": "code",
   "execution_count": 4,
   "metadata": {},
   "outputs": [],
   "source": [
    "def get_data(url):\n",
    "    raw_html = simple_get(url)\n",
    "\n",
    "    soup = BeautifulSoup(raw_html, 'html.parser')\n",
    "    url_parts = url.split(\"/\")\n",
    "    strain_id = url_parts[-2]+\":\"+url_parts[-1]\n",
    "    name = ''\n",
    "    try:\n",
    "        name = \" \".join(soup.title.getText().split(\" \")[:-5])\n",
    "    except:\n",
    "        print('error in getting name')\n",
    "  #  print(name)\n",
    "\n",
    "    desc_text = ''\n",
    "    try:\n",
    "        desc = soup.find('div', class_='description')\n",
    "        desc_text = desc.p.getText()\n",
    "  #      print(desc.p.getText())\n",
    "    except:\n",
    "        print('',end='')\n",
    "\n",
    "   # print()\n",
    "   # print('GROW INFO:')\n",
    "\n",
    "    grow_info_str = ''\n",
    "    try:\n",
    "        grow_info = soup.find_all('div', class_=['growInfoRow','growInfoRow desktopYield'])\n",
    "        for grow in grow_info:\n",
    "            val = grow.find(lambda tag: tag.name == 'div' and \n",
    "                                tag.get('class') and tag.get('class') == ['selected'] )\n",
    "            label = grow.find(lambda tag: tag.name == 'div' and\n",
    "                                tag.get('class') and tag.get('class') == ['strain__data'])\n",
    "            label = label.text.strip()\n",
    "            val = val.text.strip()\n",
    "\n",
    "        #    print(label + ':' + val)\n",
    "            grow_info_str += label + ':' + val + ','\n",
    "      #  print()\n",
    "    except:\n",
    "        print('',end='')\n",
    "                        \n",
    "\n",
    "    effects = ''\n",
    "    medical = ''\n",
    "    negatives = ''\n",
    "\n",
    "    try:\n",
    "        categories = soup.find_all(lambda tag: tag.name == 'div' and\n",
    "                                    tag.get('class') == ['m-histogram'])\n",
    "        \n",
    "\n",
    "        for cat in categories:\n",
    "            category = cat['ng-show'].split('===')[1][1:-1]\n",
    "          #  print(category)\n",
    "\n",
    "            hists = cat.find_all(lambda tag: tag.name == 'div' and \n",
    "                                            tag.get('class') == ['m-histogram-item-wrapper'])\n",
    "            for item in hists:\n",
    "                label = item.find('div', class_='m-attr-label copy--sm').string\n",
    "                val = item.find('div', class_='m-attr-bar')['style'].split(':')[1][:-1]\n",
    "                val = round(float(val),2)\n",
    "                if category == 'Effects':\n",
    "                    effects += label + ':' + str(val) + ','\n",
    "                elif category == 'Medical':\n",
    "                    medical += label + ':' + str(val) + ','\n",
    "                elif category == 'Negatives':\n",
    "                    negatives += label + ':' + str(val) + ','\n",
    "         #       print(label + ':sdf ' + str(val))\n",
    "         #   print()\n",
    "\n",
    "            \n",
    "            \n",
    "    except:\n",
    "        print('',end='')\n",
    "\n",
    "    all_flavors = 'Ammonia Apple Apricot Berry Blue Cheese Blueberry Butter Cheese Chemical Chestnut Citrus Coffee Diesel Earthy Flowery Grape Grapefruit Honey Lavender Lemon Lime Mango Menthol Mint Nutty Orange Peach Pear Pepper Pine Pineapple Plum Pungent Rose Sage Skunk Spicy/Herbal Strawberry Sweet Tar Tea Tobacco Tree Fruit Tropical Vanilla Violet Woody'\n",
    "    \n",
    "    flavor_str = ''\n",
    "    try:\n",
    "        flavors = soup.find_all(lambda tag: tag.name == 'li' and\n",
    "                                    tag.get('class') and \n",
    "                                        tag.get('class')[0].find(\"grid-1-3 grid-xs-1-3 copy--centered colored-background\") and\n",
    "                                            tag.get('title') and tag.get('title').find(all_flavors))\n",
    "      #  print('FLAVORS:')\n",
    "        if flavors:\n",
    "            for flavor in flavors:\n",
    "            #    print(flavor['title'])\n",
    "                flavor_str += flavor['title'] + ','\n",
    "     #   print()\n",
    "    except:\n",
    "        print('',end='')\n",
    "   # print('PARENTS:')\n",
    "\n",
    "    parents_str = ''\n",
    "    try:\n",
    "        lineage = soup.find('div', class_='strain__lineage strain__dataTab')\n",
    "        if lineage:\n",
    "            parent = lineage.find_all(lambda tag: tag.name == 'a' and tag.get('href'))\n",
    "            if parent:\n",
    "                for p in parent:\n",
    "                    par = p['href'].split('/')\n",
    "                #    print('type: ' + par[len(par) - 2] + ' strain: ' + par[len(par) - 1])\n",
    "                    parents_str += par[len(par) - 2] + ':' + par[len(par) - 1] + ','\n",
    "    except:\n",
    "        print('',end='')\n",
    "\n",
    "    rate_str = ''\n",
    "    try:\n",
    "        rate = soup.find(lambda tag: tag.name == 'div' and \n",
    "                            tag.get('itemprop') and tag.get('itemprop') == 'aggregateRating')\n",
    "        avg_rating = rate.find(lambda tag: tag.name == 'span' and tag.get('star-rating'))\n",
    "        rate_str = avg_rating['star-rating']\n",
    "    except:\n",
    "        print('',end='')\n",
    "    \n",
    "    num_rate = ''\n",
    "    try:\n",
    "        num_ratings = rate.find(lambda tag: tag.name == 'span' and tag.get('itemprop') and\n",
    "                            tag.get('itemprop') == 'reviewCount')\n",
    "        num_rate = num_ratings.text\n",
    "    except:\n",
    "        print('',end='')\n",
    "  #  print()\n",
    "\n",
    "    \n",
    "  #  if avg_rating and avg_rating['star-rating']:\n",
    "    #    print(avg_rating['star-rating'])\n",
    "   # if num_ratings and num_ratings.text:\n",
    "     #   print(num_ratings.text)\n",
    "    return {'strain_id':strain_id, 'url':url,'name':name,'desc':desc_text,\n",
    "            'grow_info':grow_info_str,'effects':effects,'medical':medical,'negatives':negatives,\n",
    "            'flavors':flavor_str,'parents':parents_str,'ratings':rate_str,'num_ratings':num_rate}\n"
   ]
  },
  {
   "cell_type": "markdown",
   "metadata": {},
   "source": [
    "## Debug Parsing:"
   ]
  },
  {
   "cell_type": "code",
   "execution_count": 5,
   "metadata": {},
   "outputs": [
    {
     "name": "stdout",
     "output_type": "stream",
     "text": [
      "https://www.leafly.com/sativa/island-maui-haze\n",
      "{'strain_id': 'sativa:island-maui-haze', 'url': 'https://www.leafly.com/sativa/island-maui-haze', 'name': 'Island Maui Haze', 'desc': 'Island Maui Haze is a 75/25 sativa-dominant strain with effects that can creep up on you. These dense, forest green buds may not initially attract you based on its strong, ammonia smell; however, this crystal-covered strain is praised for its uplifting, energetic effects that can relieve pain and other symptoms without bringing you down into a lazy state.\\xa0', 'grow_info': '', 'effects': 'Relaxed:100.0,Happy:97.62,Talkative:88.1,Euphoric:16.67,Tingly:9.52,', 'medical': 'Stress:100.0,Depression:90.91,Headaches:88.64,Pain:88.64,Inflammation:86.36,', 'negatives': 'Dry Mouth:100.0,Anxious:100.0,Paranoid:50.0,', 'flavors': 'Citrus,Mango,Tropical,', 'parents': '', 'ratings': '4.53333333333333', 'num_ratings': '15'}\n"
     ]
    }
   ],
   "source": [
    "bad_name='sativa:island-maui-haze'\n",
    "bad_name_parts = bad_name.split(':')\n",
    "bad_url= 'https://www.leafly.com/%s/%s' % (bad_name_parts[0],bad_name_parts[1])\n",
    "print(bad_url)\n",
    "result = get_data(bad_url)\n",
    "print(result)"
   ]
  },
  {
   "cell_type": "markdown",
   "metadata": {},
   "source": [
    "# Extract & Parse URLs - Note that the scraping part of this section is commented out so that rerunning everything does not take 90 minutes"
   ]
  },
  {
   "cell_type": "code",
   "execution_count": 6,
   "metadata": {},
   "outputs": [],
   "source": [
    "# Extracting URLs from Leafly sitemap using BeautifulSoup to parse\n",
    "soup = BeautifulSoup(open(\"./LeaflySitemap.xml\", \"r\"), \"lxml-xml\")\n",
    "urls  = [a.text for a in (urls.find(\"loc\") for urls in soup.find_all(\"url\")) if a]\n",
    "\n",
    "# Extracting only strain URLs from the complete list\n",
    "# Required URLs have format https://www.leafly.com/{sativa|indica|hybrid}/{strain_name}\n",
    "regexExp = \"https?:\\/\\/(www\\.)?(leafly\\.com)\\/(hybrid|sativa|indica)\\/+[^\\/]+[-a-zA-Z0-9@:%._\\+~#=]$\"\n",
    "regex = re.compile(regexExp)\n",
    "strain_URLs = list(filter(regex.search, urls))\n",
    "\n",
    "# Already run - uncomment to rerun\n",
    "# with open('strains.csv','w') as f:\n",
    "#     fields = ['strain_id','url','name','desc','grow_info','effects','medical','negatives','flavors','parents','ratings','num_ratings']\n",
    "#     csvwriter=csv.DictWriter(f, fieldnames=fields)\n",
    "#     csvwriter.writeheader()\n",
    "\n",
    "#     i = 0\n",
    "#     siz = len(strain_URLs)\n",
    "#     for url in strain_URLs:\n",
    "#         result = get_data(url)\n",
    "#         csvwriter.writerow(result)\n",
    "#         # How far are we:\n",
    "#         print('\\r' + str(100 * i / siz),end='')\n",
    "#         i+=1"
   ]
  },
  {
   "cell_type": "markdown",
   "metadata": {},
   "source": [
    "# Data Cleaning\n",
    "## TODO what do we need from this"
   ]
  },
  {
   "cell_type": "code",
   "execution_count": 7,
   "metadata": {},
   "outputs": [],
   "source": [
    "import pandas as pd\n",
    "import numpy as np"
   ]
  },
  {
   "cell_type": "code",
   "execution_count": null,
   "metadata": {},
   "outputs": [],
   "source": []
  },
  {
   "cell_type": "code",
   "execution_count": 8,
   "metadata": {},
   "outputs": [],
   "source": [
    "df = pd.read_csv('./strains.csv')"
   ]
  },
  {
   "cell_type": "code",
   "execution_count": 9,
   "metadata": {},
   "outputs": [],
   "source": [
    "df['num_ratings'].fillna(value=0,inplace=True)\n",
    "df['ratings'].fillna(value=0,inplace=True)"
   ]
  },
  {
   "cell_type": "code",
   "execution_count": 10,
   "metadata": {},
   "outputs": [],
   "source": [
    "#new_df.to_csv('./strains_cleaned.csv',index=False)\n",
    "df.to_csv('./strains_cleaned.csv',index=False)"
   ]
  },
  {
   "cell_type": "markdown",
   "metadata": {},
   "source": [
    "# Filtering & Reformatting Data"
   ]
  },
  {
   "cell_type": "code",
   "execution_count": 11,
   "metadata": {},
   "outputs": [],
   "source": [
    "import pandas as pd\n",
    "import numpy as np\n",
    "import matplotlib.pyplot as plt\n",
    "import networkx as nx\n",
    "%matplotlib inline\n",
    "plt.rcParams['figure.figsize'] = [12,12]"
   ]
  },
  {
   "cell_type": "code",
   "execution_count": 12,
   "metadata": {},
   "outputs": [
    {
     "data": {
      "text/plain": [
       "Index(['strain_id', 'url', 'name', 'desc', 'grow_info', 'effects', 'medical',\n",
       "       'negatives', 'flavors', 'parents', 'ratings', 'num_ratings'],\n",
       "      dtype='object')"
      ]
     },
     "execution_count": 12,
     "metadata": {},
     "output_type": "execute_result"
    }
   ],
   "source": [
    "df.columns"
   ]
  },
  {
   "cell_type": "code",
   "execution_count": 13,
   "metadata": {},
   "outputs": [
    {
     "data": {
      "text/html": [
       "<div>\n",
       "<style scoped>\n",
       "    .dataframe tbody tr th:only-of-type {\n",
       "        vertical-align: middle;\n",
       "    }\n",
       "\n",
       "    .dataframe tbody tr th {\n",
       "        vertical-align: top;\n",
       "    }\n",
       "\n",
       "    .dataframe thead th {\n",
       "        text-align: right;\n",
       "    }\n",
       "</style>\n",
       "<table border=\"1\" class=\"dataframe\">\n",
       "  <thead>\n",
       "    <tr style=\"text-align: right;\">\n",
       "      <th></th>\n",
       "      <th>strain_id</th>\n",
       "      <th>name</th>\n",
       "      <th>url</th>\n",
       "      <th>desc</th>\n",
       "      <th>parents</th>\n",
       "      <th>Anxious</th>\n",
       "      <th>Aroused</th>\n",
       "      <th>Creative</th>\n",
       "      <th>Energetic</th>\n",
       "      <th>Euphoric</th>\n",
       "      <th>...</th>\n",
       "      <th>Headaches</th>\n",
       "      <th>Fatigue</th>\n",
       "      <th>Eye Pressure</th>\n",
       "      <th>Dizzy</th>\n",
       "      <th>Paranoid</th>\n",
       "      <th>Dry Eyes</th>\n",
       "      <th>Dry Mouth</th>\n",
       "      <th>Headache</th>\n",
       "      <th>ratings</th>\n",
       "      <th>num_ratings</th>\n",
       "    </tr>\n",
       "  </thead>\n",
       "  <tbody>\n",
       "    <tr>\n",
       "      <th>0</th>\n",
       "      <td>hybrid:sweet-nina</td>\n",
       "      <td>Sweet Nina</td>\n",
       "      <td>https://www.leafly.com/hybrid/sweet-nina</td>\n",
       "      <td>Sweet Nina by Colorado Seed Inc. is a hybrid c...</td>\n",
       "      <td>indica:hindu-kush,</td>\n",
       "      <td>100.00</td>\n",
       "      <td>0.0</td>\n",
       "      <td>0.00</td>\n",
       "      <td>0.0</td>\n",
       "      <td>75.0</td>\n",
       "      <td>...</td>\n",
       "      <td>0.0</td>\n",
       "      <td>0.0</td>\n",
       "      <td>0.0</td>\n",
       "      <td>100.00</td>\n",
       "      <td>100.00</td>\n",
       "      <td>5.56</td>\n",
       "      <td>0.0</td>\n",
       "      <td>0.0</td>\n",
       "      <td>3.857143</td>\n",
       "      <td>6.0</td>\n",
       "    </tr>\n",
       "    <tr>\n",
       "      <th>1</th>\n",
       "      <td>indica:hawaiian-purple-kush</td>\n",
       "      <td>Hawaiian Purple Kush</td>\n",
       "      <td>https://www.leafly.com/indica/hawaiian-purple-...</td>\n",
       "      <td>Hawaiian Purple Kush is an 80/20 indica-domina...</td>\n",
       "      <td>sativa:hawaiian,indica:purple-kush,</td>\n",
       "      <td>2.38</td>\n",
       "      <td>0.0</td>\n",
       "      <td>86.87</td>\n",
       "      <td>0.0</td>\n",
       "      <td>0.0</td>\n",
       "      <td>...</td>\n",
       "      <td>0.0</td>\n",
       "      <td>0.0</td>\n",
       "      <td>0.0</td>\n",
       "      <td>2.38</td>\n",
       "      <td>92.86</td>\n",
       "      <td>97.62</td>\n",
       "      <td>100.0</td>\n",
       "      <td>0.0</td>\n",
       "      <td>4.486486</td>\n",
       "      <td>32.0</td>\n",
       "    </tr>\n",
       "    <tr>\n",
       "      <th>2</th>\n",
       "      <td>indica:lime-purple-mist</td>\n",
       "      <td>Lime Purple Mist</td>\n",
       "      <td>https://www.leafly.com/indica/lime-purple-mist</td>\n",
       "      <td>Lime Purple Mist is an indica-dominant strain ...</td>\n",
       "      <td>NaN</td>\n",
       "      <td>0.00</td>\n",
       "      <td>0.0</td>\n",
       "      <td>0.00</td>\n",
       "      <td>0.0</td>\n",
       "      <td>0.0</td>\n",
       "      <td>...</td>\n",
       "      <td>0.0</td>\n",
       "      <td>0.0</td>\n",
       "      <td>0.0</td>\n",
       "      <td>0.00</td>\n",
       "      <td>0.00</td>\n",
       "      <td>0.00</td>\n",
       "      <td>100.0</td>\n",
       "      <td>0.0</td>\n",
       "      <td>4.333333</td>\n",
       "      <td>4.0</td>\n",
       "    </tr>\n",
       "  </tbody>\n",
       "</table>\n",
       "<p>3 rows × 87 columns</p>\n",
       "</div>"
      ],
      "text/plain": [
       "                     strain_id                  name  \\\n",
       "0            hybrid:sweet-nina            Sweet Nina   \n",
       "1  indica:hawaiian-purple-kush  Hawaiian Purple Kush   \n",
       "2      indica:lime-purple-mist      Lime Purple Mist   \n",
       "\n",
       "                                                 url  \\\n",
       "0           https://www.leafly.com/hybrid/sweet-nina   \n",
       "1  https://www.leafly.com/indica/hawaiian-purple-...   \n",
       "2     https://www.leafly.com/indica/lime-purple-mist   \n",
       "\n",
       "                                                desc  \\\n",
       "0  Sweet Nina by Colorado Seed Inc. is a hybrid c...   \n",
       "1  Hawaiian Purple Kush is an 80/20 indica-domina...   \n",
       "2  Lime Purple Mist is an indica-dominant strain ...   \n",
       "\n",
       "                               parents  Anxious  Aroused  Creative  Energetic  \\\n",
       "0                   indica:hindu-kush,   100.00      0.0      0.00        0.0   \n",
       "1  sativa:hawaiian,indica:purple-kush,     2.38      0.0     86.87        0.0   \n",
       "2                                  NaN     0.00      0.0      0.00        0.0   \n",
       "\n",
       "   Euphoric     ...       Headaches  Fatigue  Eye Pressure   Dizzy  Paranoid  \\\n",
       "0      75.0     ...             0.0      0.0           0.0  100.00    100.00   \n",
       "1       0.0     ...             0.0      0.0           0.0    2.38     92.86   \n",
       "2       0.0     ...             0.0      0.0           0.0    0.00      0.00   \n",
       "\n",
       "   Dry Eyes  Dry Mouth  Headache   ratings  num_ratings  \n",
       "0      5.56        0.0       0.0  3.857143          6.0  \n",
       "1     97.62      100.0       0.0  4.486486         32.0  \n",
       "2      0.00      100.0       0.0  4.333333          4.0  \n",
       "\n",
       "[3 rows x 87 columns]"
      ]
     },
     "execution_count": 13,
     "metadata": {},
     "output_type": "execute_result"
    }
   ],
   "source": [
    "df = pd.read_csv('./strains_cleaned3.csv')\n",
    "df.head(3)"
   ]
  },
  {
   "cell_type": "code",
   "execution_count": 14,
   "metadata": {},
   "outputs": [
    {
     "data": {
      "text/plain": [
       "<matplotlib.axes._subplots.AxesSubplot at 0x7f9e2b5df710>"
      ]
     },
     "execution_count": 14,
     "metadata": {},
     "output_type": "execute_result"
    },
    {
     "data": {
      "image/png": "[encoded data removed]",
      "text/plain": [
       "<Figure size 432x288 with 1 Axes>"
      ]
     },
     "metadata": {
      "needs_background": "light"
     },
     "output_type": "display_data"
    }
   ],
   "source": [
    "df['num_ratings'].plot.hist(bins=10)"
   ]
  },
  {
   "cell_type": "code",
   "execution_count": 15,
   "metadata": {},
   "outputs": [
    {
     "data": {
      "text/plain": [
       "<matplotlib.axes._subplots.AxesSubplot at 0x7f9e2ed11940>"
      ]
     },
     "execution_count": 15,
     "metadata": {},
     "output_type": "execute_result"
    },
    {
     "data": {
      "image/png": "[encoded data removed]",
      "text/plain": [
       "<Figure size 432x288 with 1 Axes>"
      ]
     },
     "metadata": {
      "needs_background": "light"
     },
     "output_type": "display_data"
    }
   ],
   "source": [
    "df['num_ratings'].plot.density()"
   ]
  },
  {
   "cell_type": "code",
   "execution_count": 16,
   "metadata": {},
   "outputs": [
    {
     "data": {
      "text/plain": [
       "(2669, 87)"
      ]
     },
     "execution_count": 16,
     "metadata": {},
     "output_type": "execute_result"
    }
   ],
   "source": [
    "df.shape"
   ]
  },
  {
   "cell_type": "code",
   "execution_count": 17,
   "metadata": {},
   "outputs": [
    {
     "data": {
      "text/html": [
       "<div>\n",
       "<style scoped>\n",
       "    .dataframe tbody tr th:only-of-type {\n",
       "        vertical-align: middle;\n",
       "    }\n",
       "\n",
       "    .dataframe tbody tr th {\n",
       "        vertical-align: top;\n",
       "    }\n",
       "\n",
       "    .dataframe thead th {\n",
       "        text-align: right;\n",
       "    }\n",
       "</style>\n",
       "<table border=\"1\" class=\"dataframe\">\n",
       "  <thead>\n",
       "    <tr style=\"text-align: right;\">\n",
       "      <th></th>\n",
       "      <th>0</th>\n",
       "      <th>1</th>\n",
       "      <th>2</th>\n",
       "      <th>3</th>\n",
       "      <th>4</th>\n",
       "      <th>5</th>\n",
       "      <th>6</th>\n",
       "      <th>7</th>\n",
       "    </tr>\n",
       "  </thead>\n",
       "  <tbody>\n",
       "    <tr>\n",
       "      <th>0</th>\n",
       "      <td>indica:hindu-kush</td>\n",
       "      <td></td>\n",
       "      <td>None</td>\n",
       "      <td>None</td>\n",
       "      <td>None</td>\n",
       "      <td>None</td>\n",
       "      <td>None</td>\n",
       "      <td>None</td>\n",
       "    </tr>\n",
       "    <tr>\n",
       "      <th>1</th>\n",
       "      <td>sativa:hawaiian</td>\n",
       "      <td>indica:purple-kush</td>\n",
       "      <td></td>\n",
       "      <td>None</td>\n",
       "      <td>None</td>\n",
       "      <td>None</td>\n",
       "      <td>None</td>\n",
       "      <td>None</td>\n",
       "    </tr>\n",
       "    <tr>\n",
       "      <th>2</th>\n",
       "      <td>NaN</td>\n",
       "      <td>NaN</td>\n",
       "      <td>NaN</td>\n",
       "      <td>NaN</td>\n",
       "      <td>NaN</td>\n",
       "      <td>NaN</td>\n",
       "      <td>NaN</td>\n",
       "      <td>NaN</td>\n",
       "    </tr>\n",
       "    <tr>\n",
       "      <th>3</th>\n",
       "      <td>indica:bloos-kloos</td>\n",
       "      <td>indica:white-rhino</td>\n",
       "      <td></td>\n",
       "      <td>None</td>\n",
       "      <td>None</td>\n",
       "      <td>None</td>\n",
       "      <td>None</td>\n",
       "      <td>None</td>\n",
       "    </tr>\n",
       "    <tr>\n",
       "      <th>4</th>\n",
       "      <td>NaN</td>\n",
       "      <td>NaN</td>\n",
       "      <td>NaN</td>\n",
       "      <td>NaN</td>\n",
       "      <td>NaN</td>\n",
       "      <td>NaN</td>\n",
       "      <td>NaN</td>\n",
       "      <td>NaN</td>\n",
       "    </tr>\n",
       "  </tbody>\n",
       "</table>\n",
       "</div>"
      ],
      "text/plain": [
       "                    0                   1     2     3     4     5     6     7\n",
       "0   indica:hindu-kush                      None  None  None  None  None  None\n",
       "1     sativa:hawaiian  indica:purple-kush        None  None  None  None  None\n",
       "2                 NaN                 NaN   NaN   NaN   NaN   NaN   NaN   NaN\n",
       "3  indica:bloos-kloos  indica:white-rhino        None  None  None  None  None\n",
       "4                 NaN                 NaN   NaN   NaN   NaN   NaN   NaN   NaN"
      ]
     },
     "execution_count": 17,
     "metadata": {},
     "output_type": "execute_result"
    }
   ],
   "source": [
    "parents=df['parents'].str.split(',',expand=True).head()\n",
    "parents"
   ]
  },
  {
   "cell_type": "code",
   "execution_count": 18,
   "metadata": {},
   "outputs": [
    {
     "data": {
      "text/plain": [
       "array([None, nan], dtype=object)"
      ]
     },
     "execution_count": 18,
     "metadata": {},
     "output_type": "execute_result"
    }
   ],
   "source": [
    "parents[7].unique()"
   ]
  },
  {
   "cell_type": "code",
   "execution_count": 19,
   "metadata": {},
   "outputs": [
    {
     "data": {
      "text/plain": [
       "(2669, 87)"
      ]
     },
     "execution_count": 19,
     "metadata": {},
     "output_type": "execute_result"
    }
   ],
   "source": [
    "df0=df\n",
    "df0.shape"
   ]
  },
  {
   "cell_type": "code",
   "execution_count": 20,
   "metadata": {},
   "outputs": [
    {
     "name": "stdout",
     "output_type": "stream",
     "text": [
      "These two should be the same:\n",
      "{'Ammonia': 0, 'Apple': 1, 'Apricot': 2, 'Berry': 3, 'Blue Cheese': 4, 'Blueberry': 5, 'Butter': 6, 'Cheese': 7, 'Chemical': 8, 'Chestnut': 9, 'Citrus': 10, 'Coffee': 11, 'Diesel': 12, 'Earthy': 13, 'Flowery': 14, 'Grape': 15, 'Grapefruit': 16, 'Honey': 17, 'Lavender': 18, 'Lemon': 19, 'Lime': 20, 'Mango': 21, 'Menthol': 22, 'Mint': 23, 'Nutty': 24, 'Orange': 25, 'Peach': 26, 'Pear': 27, 'Pepper': 28, 'Pine': 29, 'Pineapple': 30, 'Plum': 31, 'Pungent': 32, 'Rose': 33, 'Sage': 34, 'Skunk': 35, 'Spicy/Herbal': 36, 'Strawberry': 37, 'Sweet': 38, 'Tar': 39, 'Tea': 40, 'Tobacco': 41, 'Tree': 42, 'Fruit': 43, 'Tropical': 44, 'Vanilla': 45, 'Violet': 46, 'Woody': 47}\n",
      "{'Ammonia': 0, 'Apple': 1, 'Apricot': 2, 'Berry': 3, 'Blue Cheese': 4, 'Blueberry': 5, 'Butter': 6, 'Cheese': 7, 'Chemical': 8, 'Chestnut': 9, 'Citrus': 10, 'Coffee': 11, 'Diesel': 12, 'Earthy': 13, 'Flowery': 14, 'Grape': 15, 'Grapefruit': 16, 'Honey': 17, 'Lavender': 18, 'Lemon': 19, 'Lime': 20, 'Mango': 21, 'Menthol': 22, 'Mint': 23, 'Nutty': 24, 'Orange': 25, 'Peach': 26, 'Pear': 27, 'Pepper': 28, 'Pine': 29, 'Pineapple': 30, 'Plum': 31, 'Pungent': 32, 'Rose': 33, 'Sage': 34, 'Skunk': 35, 'Spicy/Herbal': 36, 'Strawberry': 37, 'Sweet': 38, 'Tar': 39, 'Tea': 40, 'Tobacco': 41, 'Tree': 42, 'Fruit': 43, 'Tropical': 44, 'Vanilla': 45, 'Violet': 46, 'Woody': 47}\n",
      "Total number of nodes output: 2214\n"
     ]
    }
   ],
   "source": [
    "import json\n",
    "# Handle name changes that redirect but the backend was never updated\n",
    "# Note that the second part of the name appears to be unique, but the first part is very important to classification\n",
    "# The dictionary size could be reduced by adding fallback behaviour to try the other categories if missing\n",
    "substituition_dict = {'hybrid:girl-scout-cookie':'hybrid:gsc',\n",
    "                      'hybrid:platinum-girl-scout-cookies':'hybrid:platinum-gsc',\n",
    "                      'hybrid:platinum-girl-scout-cookie':'hybrid:platinum-gsc',\n",
    "                      'indica:ogre':'hybrid:ogre', \n",
    "                      'hybrid:skywalker-og':'hybrid:mazar-x-blueberry', \n",
    "                      'hybrid:hells-angel-og':'hybrid:hells-og',\n",
    "                      'hybrid:gg-4':'hybrid:original-glue', \n",
    "                      'hybrid:gorilla-glue-4':'hybrid:original-glue', \n",
    "                      'sativa:north-american':'indica:north-american', \n",
    "                      'hybrid:nevilles-haze':'sativa:nevilles-haze', \n",
    "                      'sativa:jesus-og':'indica:jesus-og',\n",
    "                      'hybrid:casey-jones':'sativa:casey-jones', \n",
    "                      'hybrid:trinity':'sativa:trinity', \n",
    "                      'hybrid:northern-lights--5':'indica:northern-lights--5', \n",
    "                      'hybrid:blue-mystic':'indica:blue-mystic', \n",
    "                      'indica:nepalese':'sativa:nepalese', \n",
    "                      'indica:blackberry':'hybrid:blackberry', \n",
    "                      'hybrid:querkle':'indica:querkle', \n",
    "                      'sativa:micky-kush':'sativa:mickey-kush', \n",
    "                      'indica:29aca226-23ba-4726-a4ab-f3bf68f2a3c4':'indica:dynamite', \n",
    "                      'hybrid:sweet-tooth':'indica:sweet-tooth', \n",
    "                      'hybrid:tangerine-sunrise':'sativa:tangerine-sunrise', \n",
    "                      'hybrid:rockstar-kush':'indica:rockstar-kush',\n",
    "                      'sativa:rene':'hybrid:rene', \n",
    "                      'hybrid:hashplant-haze':'sativa:hashplant-haze', \n",
    "                      'hybrid:gorilla-glue-1':'hybrid:sister-glue', \n",
    "                      'hybrid:fruity-pebbles':'hybrid:fpog', \n",
    "                      'indica:skywalker':'hybrid:mazar-x-blueberry'}\n",
    "\n",
    "# Uglier but faster\n",
    "# Especially ugly case - uppercase the first letter before returning via lookup\n",
    "type_enum=[\"Sativa\",\"Hybrid\",\"Indica\"]\n",
    "type_cat_enum = {\"sativa\":0,\"hybrid\":1,\"indica\":2}\n",
    "def category(strain_id):\n",
    "    strain_type=strain_id.split(':')[0]\n",
    "    index = type_cat_enum[strain_type]\n",
    "    return (type_enum[index], index)\n",
    "\n",
    "effects_enum = ['Anxious', 'Aroused', 'Creative', 'Energetic', 'Euphoric', 'Focused', 'Giggly', 'Happy', 'Hungry', 'Relaxed', 'Sleepy', 'Talkative', 'Tingly', 'Uplifted']\n",
    "effects_cat_enum = {effects_enum[i]: i for i in range (0, len(effects_enum))}\n",
    "def category_effect(row):\n",
    "    categories = {}\n",
    "    largest = effects_enum[0]\n",
    "    num = row[effects_enum[0]]\n",
    "    for effect in effects_enum:\n",
    "        if row[effect] > num:\n",
    "            largest = effect\n",
    "            num = row[effect]\n",
    "    return (largest,effects_cat_enum[largest])\n",
    "\n",
    "negs_enum = ['Dizzy', 'Paranoid', 'Anxious', 'Dry Eyes', 'Dry Mouth', 'Headache']\n",
    "negs_cat_enum = {negs_enum[i]: i for i in range (0, len(negs_enum))}       \n",
    "def category_neg(row):\n",
    "    largest = negs_enum[0]\n",
    "    num = row[negs_enum[0]]\n",
    "    for effect in negs_enum:\n",
    "        if row[effect] > num:\n",
    "            largest = effect\n",
    "            num = row[effect]\n",
    "    return (largest, negs_cat_enum[largest])\n",
    "\n",
    "meds_enum = ['Stress','Inflammation', 'Nausea', 'Pain', 'Depression', 'Insomnia', 'Lack of Appetite','Cramps', 'Seizures', 'Muscle Spasms', 'Headaches', 'Fatigue', 'Eye Pressure']\n",
    "meds_cat_enum= {meds_enum[i]: i for i in range (0, len(meds_enum)) }\n",
    "def category_med(row):\n",
    "    largest = meds_enum[0]\n",
    "    num = row[meds_enum[0]]\n",
    "    for med in meds_enum:\n",
    "        if row[med] > num:\n",
    "            largest = med\n",
    "            num = row[med]\n",
    "    return (largest, meds_cat_enum[largest])\n",
    "\n",
    "            \n",
    "flavors_enum = ['Ammonia', 'Apple', 'Apricot', 'Berry', 'Blue Cheese', 'Blueberry', 'Butter',\n",
    "              'Cheese', 'Chemical', 'Chestnut', 'Citrus', 'Coffee', 'Diesel', 'Earthy', 'Flowery', \n",
    "              'Grape', 'Grapefruit', 'Honey', 'Lavender', 'Lemon', 'Lime', 'Mango', 'Menthol', 'Mint',\n",
    "              'Nutty', 'Orange', 'Peach', 'Pear', 'Pepper', 'Pine', 'Pineapple', 'Plum', 'Pungent', 'Rose',\n",
    "              'Sage', 'Skunk', 'Spicy/Herbal', 'Strawberry', 'Sweet', 'Tar', 'Tea', 'Tobacco', 'Tree', 'Fruit',\n",
    "              'Tropical', 'Vanilla', 'Violet', 'Woody']\n",
    "categories = {}\n",
    "for i in range (0, len(flavors_enum)):\n",
    "    categories[flavors_enum[i]] = i\n",
    "flavors_cat_enum = {flavors_enum[i]: i for i in range (0, len(flavors_enum))}\n",
    "# Making sure I got this right\n",
    "print(\"These two should be the same:\")\n",
    "print(categories)\n",
    "print(flavors_cat_enum)\n",
    "def category_flavor(row):\n",
    "    largest = flavors_enum[0]\n",
    "    num = row[flavors_enum[0]]\n",
    "    for flavor in flavors_enum:\n",
    "        if row[flavor] > 0:\n",
    "            largest = flavor\n",
    "            num = row[flavor]\n",
    "    return (largest, flavors_cat_enum[largest])\n",
    "\n",
    "parent_ids=set() # All ids that show up in parents, thus we need them even if they don't have children\n",
    "def precompute_ids(row):\n",
    "        found_ids.add(row[\"strain_id\"])\n",
    "        if (row[\"parents\"] and type(row[\"parents\"])==str):\n",
    "            for p in row[\"parents\"].split(','):\n",
    "                if not len(p):\n",
    "                    continue\n",
    "                elif p in substituition_dict:\n",
    "                    parent_ids.add(substituition_dict[p])\n",
    "                else:\n",
    "                    parent_ids.add(p)\n",
    "parent_names={}\n",
    "def lookup_parent_names(row):\n",
    "    strain_id=row[\"strain_id\"]\n",
    "    if strain_id in parent_ids:\n",
    "        parent_names[strain_id]=row[\"name\"]\n",
    "\n",
    "found_ids=set()\n",
    "missing_ids=set()\n",
    "nodes = []\n",
    "links = []\n",
    "info = {}\n",
    "metadata = {}\n",
    "def calculate(row):\n",
    "    strain_id = row[\"strain_id\"]\n",
    "    parent_list = []\n",
    "    if (row[\"parents\"] and type(row[\"parents\"]) == str):\n",
    "        for p in row[\"parents\"].split(','):\n",
    "            if not len(p):\n",
    "                continue\n",
    "            elif p in substituition_dict:\n",
    "                parent = substituition_dict[p]\n",
    "            elif p not in found_ids:\n",
    "                missing_ids.add(p)\n",
    "                print(\"Strain %s is missing parent %s\"%(strain_id,p))\n",
    "                continue\n",
    "            else:\n",
    "                parent = p\n",
    "            parent_list.append(parent) \n",
    "            links.append({ \"source\": parent, \"target\": strain_id})\n",
    "        row[\"parents\"] = parent_list\n",
    "    if len(parent_list) or strain_id in parent_ids:\n",
    "        # TODO what if they are all 0? defaults to first?\n",
    "        # TODO do we end up with only one of several flavors? are they ordered? etc\n",
    "        cat_type=category(strain_id)\n",
    "        cat_effect=category_effect(row)\n",
    "        cat_neg=category_neg(row)\n",
    "        cat_med=category_med(row)\n",
    "        cat_flavor=category_flavor(row)\n",
    "        nodes.append({\"strain_id\": strain_id, \n",
    "                      \"name\": row[\"name\"], \n",
    "                      \"cat_type\":cat_type[1],\n",
    "                      \"cat_effect\":cat_effect[1],\n",
    "                      \"cat_neg\":cat_neg[1],\n",
    "                      \"cat_med\":cat_med[1],\n",
    "                      \"cat_flavor\": cat_flavor[1]})\n",
    "        # Format for card info entries\n",
    "        # Yes, sorry, you have to deal with null values in desc, rating, & rating count\n",
    "        info[strain_id]={'name':row['name'],\n",
    "                         'url':row['url'],\n",
    "                        'desc':row['desc'] if not type(row['desc'])==float else None,\n",
    "                        'parents':parent_list,\n",
    "                        'parents_readable':[parent_names[x] for x in parent_list],\n",
    "                        'rating': row['ratings'] if not np.isnan(row['ratings']) else None,\n",
    "                        'rating_count':row['num_ratings'] if not np.isnan(row['num_ratings']) else None,\n",
    "                        'type':cat_type[0],\n",
    "                         'main_effect':cat_effect[0],\n",
    "                         'effects':{x: row[x] for x in effects_enum if row[x] > 0},\n",
    "                         'main_neg':cat_neg[0],\n",
    "                         'negs':{x: row[x] for x in negs_enum if row[x] > 0},\n",
    "                         'main_med':cat_med[0],\n",
    "                         'meds':{x: row[x] for x in meds_enum if row[x] > 0},\n",
    "                        'main_flavor':cat_flavor[0],\n",
    "                        'flavors':{x: row[x] for x in flavors_enum if row[x] > 0}\n",
    "                        }\n",
    "     # For debug:\n",
    "    #else:\n",
    "       \n",
    "        #print(\"Strain %s has no parents or children, discarding record\" % strain_id,)\n",
    "def reformat():\n",
    "    df0.apply(precompute_ids,axis=1)\n",
    "    df0.apply(lookup_parent_names,axis=1)\n",
    "    df0.apply(calculate,axis=1)\n",
    "    if len(missing_ids):\n",
    "        print(\"Warning, the following ids are missing and were ignored:\")\n",
    "        print(missing_ids)\n",
    "    print(\"Total number of nodes output: %d\" %len(nodes),) \n",
    "\n",
    "reformat()\n",
    "df_nodes=pd.DataFrame(data=nodes).set_index('strain_id',verify_integrity=True)\n",
    "df_edges=pd.DataFrame(data=links)\n",
    "#print(info['hybrid:sweet-nina'])"
   ]
  },
  {
   "cell_type": "code",
   "execution_count": 21,
   "metadata": {},
   "outputs": [
    {
     "data": {
      "text/html": [
       "<div>\n",
       "<style scoped>\n",
       "    .dataframe tbody tr th:only-of-type {\n",
       "        vertical-align: middle;\n",
       "    }\n",
       "\n",
       "    .dataframe tbody tr th {\n",
       "        vertical-align: top;\n",
       "    }\n",
       "\n",
       "    .dataframe thead th {\n",
       "        text-align: right;\n",
       "    }\n",
       "</style>\n",
       "<table border=\"1\" class=\"dataframe\">\n",
       "  <thead>\n",
       "    <tr style=\"text-align: right;\">\n",
       "      <th></th>\n",
       "      <th>strain_id</th>\n",
       "      <th>name</th>\n",
       "      <th>url</th>\n",
       "      <th>desc</th>\n",
       "      <th>parents</th>\n",
       "      <th>Anxious</th>\n",
       "      <th>Aroused</th>\n",
       "      <th>Creative</th>\n",
       "      <th>Energetic</th>\n",
       "      <th>Euphoric</th>\n",
       "      <th>...</th>\n",
       "      <th>Headaches</th>\n",
       "      <th>Fatigue</th>\n",
       "      <th>Eye Pressure</th>\n",
       "      <th>Dizzy</th>\n",
       "      <th>Paranoid</th>\n",
       "      <th>Dry Eyes</th>\n",
       "      <th>Dry Mouth</th>\n",
       "      <th>Headache</th>\n",
       "      <th>ratings</th>\n",
       "      <th>num_ratings</th>\n",
       "    </tr>\n",
       "  </thead>\n",
       "  <tbody>\n",
       "    <tr>\n",
       "      <th>0</th>\n",
       "      <td>hybrid:sweet-nina</td>\n",
       "      <td>Sweet Nina</td>\n",
       "      <td>https://www.leafly.com/hybrid/sweet-nina</td>\n",
       "      <td>Sweet Nina by Colorado Seed Inc. is a hybrid c...</td>\n",
       "      <td>indica:hindu-kush,</td>\n",
       "      <td>100.00</td>\n",
       "      <td>0.0</td>\n",
       "      <td>0.00</td>\n",
       "      <td>0.0</td>\n",
       "      <td>75.0</td>\n",
       "      <td>...</td>\n",
       "      <td>0.0</td>\n",
       "      <td>0.0</td>\n",
       "      <td>0.0</td>\n",
       "      <td>100.00</td>\n",
       "      <td>100.00</td>\n",
       "      <td>5.56</td>\n",
       "      <td>0.0</td>\n",
       "      <td>0.0</td>\n",
       "      <td>3.857143</td>\n",
       "      <td>6.0</td>\n",
       "    </tr>\n",
       "    <tr>\n",
       "      <th>1</th>\n",
       "      <td>indica:hawaiian-purple-kush</td>\n",
       "      <td>Hawaiian Purple Kush</td>\n",
       "      <td>https://www.leafly.com/indica/hawaiian-purple-...</td>\n",
       "      <td>Hawaiian Purple Kush is an 80/20 indica-domina...</td>\n",
       "      <td>sativa:hawaiian,indica:purple-kush,</td>\n",
       "      <td>2.38</td>\n",
       "      <td>0.0</td>\n",
       "      <td>86.87</td>\n",
       "      <td>0.0</td>\n",
       "      <td>0.0</td>\n",
       "      <td>...</td>\n",
       "      <td>0.0</td>\n",
       "      <td>0.0</td>\n",
       "      <td>0.0</td>\n",
       "      <td>2.38</td>\n",
       "      <td>92.86</td>\n",
       "      <td>97.62</td>\n",
       "      <td>100.0</td>\n",
       "      <td>0.0</td>\n",
       "      <td>4.486486</td>\n",
       "      <td>32.0</td>\n",
       "    </tr>\n",
       "    <tr>\n",
       "      <th>2</th>\n",
       "      <td>indica:lime-purple-mist</td>\n",
       "      <td>Lime Purple Mist</td>\n",
       "      <td>https://www.leafly.com/indica/lime-purple-mist</td>\n",
       "      <td>Lime Purple Mist is an indica-dominant strain ...</td>\n",
       "      <td>NaN</td>\n",
       "      <td>0.00</td>\n",
       "      <td>0.0</td>\n",
       "      <td>0.00</td>\n",
       "      <td>0.0</td>\n",
       "      <td>0.0</td>\n",
       "      <td>...</td>\n",
       "      <td>0.0</td>\n",
       "      <td>0.0</td>\n",
       "      <td>0.0</td>\n",
       "      <td>0.00</td>\n",
       "      <td>0.00</td>\n",
       "      <td>0.00</td>\n",
       "      <td>100.0</td>\n",
       "      <td>0.0</td>\n",
       "      <td>4.333333</td>\n",
       "      <td>4.0</td>\n",
       "    </tr>\n",
       "    <tr>\n",
       "      <th>3</th>\n",
       "      <td>indica:fn-louzer</td>\n",
       "      <td>F'n louZER</td>\n",
       "      <td>https://www.leafly.com/indica/fn-louzer</td>\n",
       "      <td>F’n louZER is another potent genetic cross fro...</td>\n",
       "      <td>indica:bloos-kloos,indica:white-rhino,</td>\n",
       "      <td>0.00</td>\n",
       "      <td>50.0</td>\n",
       "      <td>0.00</td>\n",
       "      <td>0.0</td>\n",
       "      <td>0.0</td>\n",
       "      <td>...</td>\n",
       "      <td>0.0</td>\n",
       "      <td>0.0</td>\n",
       "      <td>0.0</td>\n",
       "      <td>100.00</td>\n",
       "      <td>100.00</td>\n",
       "      <td>100.00</td>\n",
       "      <td>100.0</td>\n",
       "      <td>100.0</td>\n",
       "      <td>NaN</td>\n",
       "      <td>NaN</td>\n",
       "    </tr>\n",
       "    <tr>\n",
       "      <th>4</th>\n",
       "      <td>sativa:goldwing</td>\n",
       "      <td>Goldwing</td>\n",
       "      <td>https://www.leafly.com/sativa/goldwing</td>\n",
       "      <td>NaN</td>\n",
       "      <td>NaN</td>\n",
       "      <td>0.00</td>\n",
       "      <td>0.0</td>\n",
       "      <td>40.00</td>\n",
       "      <td>40.0</td>\n",
       "      <td>60.0</td>\n",
       "      <td>...</td>\n",
       "      <td>0.0</td>\n",
       "      <td>0.0</td>\n",
       "      <td>0.0</td>\n",
       "      <td>50.00</td>\n",
       "      <td>50.00</td>\n",
       "      <td>50.00</td>\n",
       "      <td>100.0</td>\n",
       "      <td>50.0</td>\n",
       "      <td>4.666667</td>\n",
       "      <td>2.0</td>\n",
       "    </tr>\n",
       "  </tbody>\n",
       "</table>\n",
       "<p>5 rows × 87 columns</p>\n",
       "</div>"
      ],
      "text/plain": [
       "                     strain_id                  name  \\\n",
       "0            hybrid:sweet-nina            Sweet Nina   \n",
       "1  indica:hawaiian-purple-kush  Hawaiian Purple Kush   \n",
       "2      indica:lime-purple-mist      Lime Purple Mist   \n",
       "3             indica:fn-louzer            F'n louZER   \n",
       "4              sativa:goldwing              Goldwing   \n",
       "\n",
       "                                                 url  \\\n",
       "0           https://www.leafly.com/hybrid/sweet-nina   \n",
       "1  https://www.leafly.com/indica/hawaiian-purple-...   \n",
       "2     https://www.leafly.com/indica/lime-purple-mist   \n",
       "3            https://www.leafly.com/indica/fn-louzer   \n",
       "4             https://www.leafly.com/sativa/goldwing   \n",
       "\n",
       "                                                desc  \\\n",
       "0  Sweet Nina by Colorado Seed Inc. is a hybrid c...   \n",
       "1  Hawaiian Purple Kush is an 80/20 indica-domina...   \n",
       "2  Lime Purple Mist is an indica-dominant strain ...   \n",
       "3  F’n louZER is another potent genetic cross fro...   \n",
       "4                                                NaN   \n",
       "\n",
       "                                  parents  Anxious  Aroused  Creative  \\\n",
       "0                      indica:hindu-kush,   100.00      0.0      0.00   \n",
       "1     sativa:hawaiian,indica:purple-kush,     2.38      0.0     86.87   \n",
       "2                                     NaN     0.00      0.0      0.00   \n",
       "3  indica:bloos-kloos,indica:white-rhino,     0.00     50.0      0.00   \n",
       "4                                     NaN     0.00      0.0     40.00   \n",
       "\n",
       "   Energetic  Euphoric     ...       Headaches  Fatigue  Eye Pressure   Dizzy  \\\n",
       "0        0.0      75.0     ...             0.0      0.0           0.0  100.00   \n",
       "1        0.0       0.0     ...             0.0      0.0           0.0    2.38   \n",
       "2        0.0       0.0     ...             0.0      0.0           0.0    0.00   \n",
       "3        0.0       0.0     ...             0.0      0.0           0.0  100.00   \n",
       "4       40.0      60.0     ...             0.0      0.0           0.0   50.00   \n",
       "\n",
       "   Paranoid  Dry Eyes  Dry Mouth  Headache   ratings  num_ratings  \n",
       "0    100.00      5.56        0.0       0.0  3.857143          6.0  \n",
       "1     92.86     97.62      100.0       0.0  4.486486         32.0  \n",
       "2      0.00      0.00      100.0       0.0  4.333333          4.0  \n",
       "3    100.00    100.00      100.0     100.0       NaN          NaN  \n",
       "4     50.00     50.00      100.0      50.0  4.666667          2.0  \n",
       "\n",
       "[5 rows x 87 columns]"
      ]
     },
     "execution_count": 21,
     "metadata": {},
     "output_type": "execute_result"
    }
   ],
   "source": [
    "df0.head()"
   ]
  },
  {
   "cell_type": "code",
   "execution_count": null,
   "metadata": {},
   "outputs": [],
   "source": []
  },
  {
   "cell_type": "markdown",
   "metadata": {},
   "source": [
    "## Start filtering"
   ]
  },
  {
   "cell_type": "code",
   "execution_count": 22,
   "metadata": {},
   "outputs": [
    {
     "data": {
      "text/html": [
       "<div>\n",
       "<style scoped>\n",
       "    .dataframe tbody tr th:only-of-type {\n",
       "        vertical-align: middle;\n",
       "    }\n",
       "\n",
       "    .dataframe tbody tr th {\n",
       "        vertical-align: top;\n",
       "    }\n",
       "\n",
       "    .dataframe thead th {\n",
       "        text-align: right;\n",
       "    }\n",
       "</style>\n",
       "<table border=\"1\" class=\"dataframe\">\n",
       "  <thead>\n",
       "    <tr style=\"text-align: right;\">\n",
       "      <th></th>\n",
       "      <th>source</th>\n",
       "      <th>target</th>\n",
       "    </tr>\n",
       "  </thead>\n",
       "  <tbody>\n",
       "    <tr>\n",
       "      <th>0</th>\n",
       "      <td>indica:hindu-kush</td>\n",
       "      <td>hybrid:sweet-nina</td>\n",
       "    </tr>\n",
       "    <tr>\n",
       "      <th>1</th>\n",
       "      <td>sativa:hawaiian</td>\n",
       "      <td>indica:hawaiian-purple-kush</td>\n",
       "    </tr>\n",
       "    <tr>\n",
       "      <th>2</th>\n",
       "      <td>indica:purple-kush</td>\n",
       "      <td>indica:hawaiian-purple-kush</td>\n",
       "    </tr>\n",
       "    <tr>\n",
       "      <th>3</th>\n",
       "      <td>indica:bloos-kloos</td>\n",
       "      <td>indica:fn-louzer</td>\n",
       "    </tr>\n",
       "    <tr>\n",
       "      <th>4</th>\n",
       "      <td>indica:white-rhino</td>\n",
       "      <td>indica:fn-louzer</td>\n",
       "    </tr>\n",
       "  </tbody>\n",
       "</table>\n",
       "</div>"
      ],
      "text/plain": [
       "               source                       target\n",
       "0   indica:hindu-kush            hybrid:sweet-nina\n",
       "1     sativa:hawaiian  indica:hawaiian-purple-kush\n",
       "2  indica:purple-kush  indica:hawaiian-purple-kush\n",
       "3  indica:bloos-kloos             indica:fn-louzer\n",
       "4  indica:white-rhino             indica:fn-louzer"
      ]
     },
     "execution_count": 22,
     "metadata": {},
     "output_type": "execute_result"
    }
   ],
   "source": [
    "df_edges.head()"
   ]
  },
  {
   "cell_type": "code",
   "execution_count": 23,
   "metadata": {},
   "outputs": [],
   "source": [
    "# Remove cycles that are clearly mistakes so that it's a dag\n",
    "df_edges.drop(df_edges[((df_edges['target']=='indica:purple-afghani') & (df_edges['source']=='indica:purple-kush'))].index,inplace=True)\n",
    "df_edges.drop(df_edges[((df_edges['target']=='sativa:timewreck') & (df_edges['source']=='sativa:timewreck'))].index,inplace=True)"
   ]
  },
  {
   "cell_type": "code",
   "execution_count": 24,
   "metadata": {},
   "outputs": [
    {
     "data": {
      "text/html": [
       "<div>\n",
       "<style scoped>\n",
       "    .dataframe tbody tr th:only-of-type {\n",
       "        vertical-align: middle;\n",
       "    }\n",
       "\n",
       "    .dataframe tbody tr th {\n",
       "        vertical-align: top;\n",
       "    }\n",
       "\n",
       "    .dataframe thead th {\n",
       "        text-align: right;\n",
       "    }\n",
       "</style>\n",
       "<table border=\"1\" class=\"dataframe\">\n",
       "  <thead>\n",
       "    <tr style=\"text-align: right;\">\n",
       "      <th></th>\n",
       "      <th>source</th>\n",
       "      <th>target</th>\n",
       "    </tr>\n",
       "  </thead>\n",
       "  <tbody>\n",
       "    <tr>\n",
       "      <th>0</th>\n",
       "      <td>indica:hindu-kush</td>\n",
       "      <td>hybrid:sweet-nina</td>\n",
       "    </tr>\n",
       "    <tr>\n",
       "      <th>1</th>\n",
       "      <td>sativa:hawaiian</td>\n",
       "      <td>indica:hawaiian-purple-kush</td>\n",
       "    </tr>\n",
       "    <tr>\n",
       "      <th>2</th>\n",
       "      <td>indica:purple-kush</td>\n",
       "      <td>indica:hawaiian-purple-kush</td>\n",
       "    </tr>\n",
       "    <tr>\n",
       "      <th>3</th>\n",
       "      <td>indica:bloos-kloos</td>\n",
       "      <td>indica:fn-louzer</td>\n",
       "    </tr>\n",
       "    <tr>\n",
       "      <th>4</th>\n",
       "      <td>indica:white-rhino</td>\n",
       "      <td>indica:fn-louzer</td>\n",
       "    </tr>\n",
       "  </tbody>\n",
       "</table>\n",
       "</div>"
      ],
      "text/plain": [
       "               source                       target\n",
       "0   indica:hindu-kush            hybrid:sweet-nina\n",
       "1     sativa:hawaiian  indica:hawaiian-purple-kush\n",
       "2  indica:purple-kush  indica:hawaiian-purple-kush\n",
       "3  indica:bloos-kloos             indica:fn-louzer\n",
       "4  indica:white-rhino             indica:fn-louzer"
      ]
     },
     "execution_count": 24,
     "metadata": {},
     "output_type": "execute_result"
    }
   ],
   "source": [
    "df_edges[df_edges.target.isin(df_nodes.index)].head()"
   ]
  },
  {
   "cell_type": "code",
   "execution_count": 25,
   "metadata": {},
   "outputs": [
    {
     "data": {
      "text/html": [
       "<div>\n",
       "<style scoped>\n",
       "    .dataframe tbody tr th:only-of-type {\n",
       "        vertical-align: middle;\n",
       "    }\n",
       "\n",
       "    .dataframe tbody tr th {\n",
       "        vertical-align: top;\n",
       "    }\n",
       "\n",
       "    .dataframe thead th {\n",
       "        text-align: right;\n",
       "    }\n",
       "</style>\n",
       "<table border=\"1\" class=\"dataframe\">\n",
       "  <thead>\n",
       "    <tr style=\"text-align: right;\">\n",
       "      <th></th>\n",
       "      <th>source</th>\n",
       "      <th>target</th>\n",
       "    </tr>\n",
       "  </thead>\n",
       "  <tbody>\n",
       "    <tr>\n",
       "      <th>0</th>\n",
       "      <td>indica:hindu-kush</td>\n",
       "      <td>hybrid:sweet-nina</td>\n",
       "    </tr>\n",
       "    <tr>\n",
       "      <th>1</th>\n",
       "      <td>sativa:hawaiian</td>\n",
       "      <td>indica:hawaiian-purple-kush</td>\n",
       "    </tr>\n",
       "    <tr>\n",
       "      <th>2</th>\n",
       "      <td>indica:purple-kush</td>\n",
       "      <td>indica:hawaiian-purple-kush</td>\n",
       "    </tr>\n",
       "    <tr>\n",
       "      <th>3</th>\n",
       "      <td>indica:bloos-kloos</td>\n",
       "      <td>indica:fn-louzer</td>\n",
       "    </tr>\n",
       "    <tr>\n",
       "      <th>4</th>\n",
       "      <td>indica:white-rhino</td>\n",
       "      <td>indica:fn-louzer</td>\n",
       "    </tr>\n",
       "  </tbody>\n",
       "</table>\n",
       "</div>"
      ],
      "text/plain": [
       "               source                       target\n",
       "0   indica:hindu-kush            hybrid:sweet-nina\n",
       "1     sativa:hawaiian  indica:hawaiian-purple-kush\n",
       "2  indica:purple-kush  indica:hawaiian-purple-kush\n",
       "3  indica:bloos-kloos             indica:fn-louzer\n",
       "4  indica:white-rhino             indica:fn-louzer"
      ]
     },
     "execution_count": 25,
     "metadata": {},
     "output_type": "execute_result"
    }
   ],
   "source": [
    "# Remove edges involving non-existant nodes so that networkx doesn't freak out\n",
    "df_edges2=df_edges[df_edges.target.isin(df_nodes.index)]\n",
    "df_edges2=df_edges2[df_edges2.source.isin(df_nodes.index)]\n",
    "df_edges2.head()"
   ]
  },
  {
   "cell_type": "code",
   "execution_count": 26,
   "metadata": {},
   "outputs": [
    {
     "data": {
      "text/plain": [
       "<networkx.classes.digraph.DiGraph at 0x7f9e2aa879e8>"
      ]
     },
     "execution_count": 26,
     "metadata": {},
     "output_type": "execute_result"
    }
   ],
   "source": [
    "G=nx.DiGraph(df_edges2,edge_attr=True)\n",
    "G"
   ]
  },
  {
   "cell_type": "code",
   "execution_count": 27,
   "metadata": {},
   "outputs": [],
   "source": [
    "are_good=nx.is_directed_acyclic_graph(G)\n",
    "if not are_good:\n",
    "    print(nx.find_cycle(G))\n",
    "assert are_good, \"Graph must be a directed acyclic graph\"\n"
   ]
  },
  {
   "cell_type": "code",
   "execution_count": 28,
   "metadata": {},
   "outputs": [
    {
     "name": "stdout",
     "output_type": "stream",
     "text": [
      "102\n",
      "['indica:hindu-kush', 'sativa:hawaiian', 'indica:frankenstein', 'hybrid:the-white', 'indica:pre-98-bubba-kush', 'indica:double-purple-doja', 'indica:silverback-gorilla', 'sativa:south-indian', 'hybrid:nebula', 'sativa:charlottes-web', 'indica:afghani', 'indica:sensi-star', 'indica:g-13', 'hybrid:bubble-gum', 'sativa:thai', 'sativa:central-american', 'hybrid:burmese-kush', 'hybrid:ocas-cloud-9', 'indica:triangle-kush', 'sativa:strawberry-cough', 'indica:north-indian', 'sativa:mexican', 'indica:eastern-european', 'hybrid:silver-surfer', 'hybrid:dutch-treat', 'sativa:matanuska-thunder-fuck', 'sativa:african', 'hybrid:the-one', 'sativa:lemon-thai', 'sativa:nepalese', 'hybrid:ginger-ale', 'sativa:jamaican', 'hybrid:california-orange', 'hybrid:saturn-og', 'indica:kosher-kush', 'indica:purple-elephant', 'hybrid:pink-panther', 'sativa:south-american', 'indica:south-asian', 'sativa:tangerine-sunrise', 'hybrid:spirit-of-76', 'indica:caramella', 'sativa:early-pearl', 'indica:pakistani-chitral-kush', 'hybrid:black-cherry-soda', 'sativa:cambodian', 'sativa:kali-mist', 'sativa:frostbite', 'indica:cookie-monster', 'indica:humboldt-headband', 'sativa:hawaii-78', 'indica:milky-way', 'indica:purple-star', 'indica:china-yunnan', 'indica:dynamite', 'hybrid:hells-og', 'sativa:swiss-gold', 'sativa:kauai-electric', 'hybrid:huckleberry', 'indica:brand-x', 'indica:chemo', 'indica:grandpas-breath', 'indica:starbud', 'hybrid:happy-rancher', 'sativa:south-asian-sativa', 'sativa:the-fork', 'hybrid:blue-magoo', 'indica:the-black', 'sativa:key-lime-haze', 'hybrid:sharks-breath', 'sativa:schrom', 'sativa:sugar-plum', 'hybrid:98-white-widow', 'indica:fucking-incredible', 'hybrid:the-original-lemonnade', 'sativa:strawberry', 'indica:uw', 'hybrid:thc-bomb', 'indica:south-indian-indica', 'hybrid:dancehall', 'indica:hollands-hope', 'indica:freezeland', 'hybrid:romulan-grapefruit', 'indica:la-og', 'hybrid:silver-pearl', 'indica:frosty', 'indica:north-american', 'indica:black-cherry-og', 'hybrid:jet-fuel', 'indica:green-poison', 'indica:xxx-og', 'hybrid:skunk-haze', 'indica:raspberry-kush', 'indica:goo', 'hybrid:sour-banana-sherbet', 'indica:gumbo', 'indica:blue-diamond', 'hybrid:purple-arrow', 'hybrid:mozambique-poison', 'indica:black-label-kush', 'sativa:swiss-sativa', 'sativa:north-american-sativa']\n"
     ]
    }
   ],
   "source": [
    "source_nodes=[]\n",
    "for (strain_id,value) in G.in_degree():\n",
    "    if value == 0:\n",
    "        source_nodes.append(strain_id)\n",
    "print(len(source_nodes))\n",
    "print(source_nodes)"
   ]
  },
  {
   "cell_type": "code",
   "execution_count": 29,
   "metadata": {},
   "outputs": [
    {
     "name": "stdout",
     "output_type": "stream",
     "text": [
      "1582\n",
      "['hybrid:sweet-nina', 'indica:fn-louzer', 'indica:murkle', 'hybrid:alf', 'hybrid:northern-cross', 'hybrid:damnesia', 'hybrid:sunlight-skunk', 'hybrid:white-ryder', 'hybrid:loyality', 'indica:sweet-lafayette', 'sativa:alpha-cow', 'hybrid:armagnac', 'indica:bubba-doja', 'hybrid:peyton-manning', 'hybrid:diamond-socks', 'hybrid:bootlegger', 'sativa:doox', 'indica:kelly-hill-gold', 'indica:pestilence', 'indica:ifc-og', 'sativa:haze-mist', 'indica:space-monster', 'hybrid:spyder-mon', 'hybrid:sorcerers-apprentice', 'hybrid:white-walrus', 'hybrid:brain-candy', 'hybrid:goat', 'hybrid:chairman-chem-sou', 'hybrid:cello-sweet-og', 'sativa:kaboom', 'indica:tonics-web', 'hybrid:batgirl', 'hybrid:prismatic-jack', 'hybrid:cheesewreck', 'hybrid:lazy-train', 'hybrid:afghanica', 'hybrid:boggle-gum', 'indica:afghanimal', 'hybrid:the-big-dirty', 'hybrid:gupta-haze', 'hybrid:pan-jam', 'indica:sumo-og-kush', 'indica:berry-noir', 'hybrid:flowers-for-algernon', 'indica:la-ultra', 'indica:denver-maple', 'indica:purple-buddha', 'hybrid:cluster-bomb', 'hybrid:peles-fire-og', 'hybrid:kush-n-cheese', 'hybrid:king-cake', 'hybrid:valley-ghash', 'hybrid:supermax-og', 'hybrid:dr-bubbles', 'indica:monkey-bread-1', 'hybrid:whiteout', 'sativa:legendary-lemon', 'sativa:la-reina-de-africa', 'indica:cbd-ox', 'hybrid:khola', 'indica:capers', 'hybrid:orangutang', 'hybrid:blue-persuasion', 'sativa:sputnik', 'hybrid:wally-og', 'sativa:hawaiian-diesel', 'sativa:dj-andy-williams', 'hybrid:donna-og', 'sativa:alpha-express', 'hybrid:mammoth', 'hybrid:morning-glory', 'hybrid:purple-sage', 'hybrid:riddler-og', 'hybrid:richie-rich', 'hybrid:magellan', 'hybrid:gto', 'hybrid:rene-mist', 'hybrid:boombaye', 'hybrid:the-vision', 'hybrid:kid-n-cookies', 'sativa:spliffs-strawberry', 'sativa:poochie-love', 'hybrid:neil-haze', 'hybrid:chem-crush', 'hybrid:fire-alien-strawberry', 'hybrid:purple-goat', 'hybrid:bubba-fresh', 'hybrid:hawaiian-fire', 'hybrid:alien-inferno', 'hybrid:clementines-terpentine', 'hybrid:burnt-cookies', 'indica:west-coast-dawg', 'indica:quin-n-tonic', 'indica:phatt-frutty', 'indica:jack-burton', 'hybrid:crimea-blue', 'hybrid:gatekeeper-og', 'hybrid:als-dream', 'sativa:strawberry-satori', 'sativa:hoodwreck', 'hybrid:cherry-grapefruit', 'hybrid:bianca', 'hybrid:maui-haole', 'indica:k-train', 'hybrid:mission-kush', 'indica:blue-bastard', 'hybrid:dirty-widow', 'hybrid:omega-dawg', 'hybrid:day-tripper', 'hybrid:dutch-thunder-fuck', 'indica:cherry-mender', 'indica:white-bastard', 'hybrid:manitoba-poison', 'indica:orange-romulan', 'hybrid:dawgfather-og', 'indica:cannasutra', 'sativa:zeta-sage', 'hybrid:thelonious-skunk', 'hybrid:bermuda-sour', 'hybrid:chocolony', 'hybrid:haze-heaven', 'hybrid:do-over-og', 'sativa:madcow', 'hybrid:ebola-7', 'hybrid:concord-grape-blockhead', 'indica:secret-garden-og', 'indica:super-bud', 'hybrid:golden-panda', 'indica:the-sister', 'hybrid:gypsy-kush', 'indica:blueberry-triple-og', 'sativa:kings-bread', 'indica:black-cheese', 'hybrid:banana-peel', 'hybrid:early-miss', 'hybrid:dream-police', 'hybrid:cali-jack', 'indica:nice-cherry', 'hybrid:tembo-kush', 'indica:sweet-baby-jane', 'hybrid:hawaiian-skunk', 'hybrid:chem-jong-ill', 'sativa:canna-wreck', 'hybrid:cherry-fire', 'hybrid:tree-of-life', 'hybrid:pineapple-calyx', 'hybrid:kaleidos-dope', 'hybrid:calyx-og', 'hybrid:mc1', 'indica:karibbean-mango', 'indica:kandahar', 'hybrid:13-dawgs', 'hybrid:wreckage', 'hybrid:jacky-girl', 'indica:whitaker-blues', 'hybrid:alien-walker', 'hybrid:sizzurp', 'hybrid:blues', 'hybrid:fruit-crusher', 'indica:chocolate-meringue', 'hybrid:northwest-pineapple', 'indica:bc-sweet-tooth', 'hybrid:star-47', 'hybrid:lost-sierra-night-nurse', 'hybrid:smooth-operator', 'hybrid:c3', 'hybrid:head-trip', 'hybrid:diesel-duff', 'sativa:supa-don', 'hybrid:krakatoa', 'hybrid:dr-quantum', 'hybrid:purple-tide', 'indica:rigger-kush', 'indica:the-loops', 'hybrid:skins-skunk', 'hybrid:sour-chunk', 'hybrid:grilled-cheese', 'hybrid:royal-dwarf', 'hybrid:doctor-jamaica', 'indica:galactica-og', 'hybrid:skunky-diesel', 'hybrid:golden-soda', 'indica:mossad', 'indica:kc-36', 'hybrid:luca-brasi', 'hybrid:tangie-sunrise', 'indica:grimmdica', 'hybrid:blue-wonder', 'sativa:pinot-green', 'hybrid:tangier-chilly', 'indica:white-empress', 'hybrid:suicide-girl', 'hybrid:blueberry-bomb', 'indica:crystalberry', 'sativa:blaze', 'hybrid:arctic-sun', 'sativa:appalachian-power', 'hybrid:vanilluna', 'sativa:russian-doll', 'indica:star-berry', 'hybrid:royal-chemdawg', 'hybrid:pink-hawaiian', 'hybrid:cashus-clay', 'hybrid:tango-kush', 'indica:green-python', 'indica:government-mule', 'hybrid:white-elephant', 'indica:kahuna', 'indica:big-wreck', 'indica:copper-kush', 'hybrid:amethyst-bud', 'hybrid:arcticblue', 'indica:west-og', 'indica:americano', 'hybrid:maramota-10', 'sativa:golden-calyx', 'hybrid:the-sheriff', 'hybrid:strawberry-milkshake', 'hybrid:x-tra-chz', 'indica:star-master-kush', 'hybrid:capleton', 'hybrid:blue-treat', 'hybrid:el-perro', 'sativa:horace', 'indica:dream-berry', 'hybrid:jack-47', 'indica:wonder-kid', 'indica:bubba-hash', 'indica:godberry', 'indica:khufu', 'hybrid:ny-cheese', 'hybrid:mega-jackpot', 'indica:crosswalker', 'hybrid:brian-berry-citrus-blend', 'hybrid:aspen-og', 'indica:p-51', 'hybrid:brian-berry-honey-lemon', 'indica:negra-44', 'hybrid:pine-cone', 'hybrid:biddy-early', 'sativa:rebel-tangie-kandy', 'indica:throwback-kush', 'hybrid:ganesh-berry', 'indica:purple-bud', 'indica:blue-ox', 'hybrid:red-velvet-pie', 'hybrid:berts-cookie-dough', 'sativa:pagoda', 'hybrid:lapd', 'hybrid:hammershark', 'hybrid:carmel-cough', 'indica:snow-mountain', 'hybrid:ny-47', 'hybrid:840', 'indica:kreamy-karamel', 'hybrid:bubba-tom-hayes', 'hybrid:double-barrel-og', 'hybrid:purple-pantera', 'sativa:leda-uno', 'sativa:harley-twin', 'sativa:sour-flower', 'hybrid:lost-coast-ghost', 'hybrid:chocolate-tonic', 'indica:la-blanca-gold', 'hybrid:tangenesia', 'hybrid:pineapple-dog-shit', 'hybrid:princesss-tiara', 'sativa:jamaican-lion', 'hybrid:haoma-mist', 'hybrid:toxic-punch', 'hybrid:eugene-cream', 'hybrid:margaret-cho-g', 'hybrid:azure-haze', 'hybrid:hawaiian-trinity', 'hybrid:dizzy-og', 'hybrid:orange-hill-special', 'hybrid:silver-calyx', 'indica:oca-gold', 'hybrid:thai-girl', 'sativa:limon', 'hybrid:purple-cheese', 'hybrid:crazy-miss-hyde', 'hybrid:super-silver-lights', 'indica:gorilla-grips', 'hybrid:dark-shadow-haze', 'hybrid:ape-shit', 'sativa:xanadu', 'hybrid:stevie-wonder', 'hybrid:lime-green-skunk', 'indica:alpine-star', 'hybrid:hawaiian-cookies', 'hybrid:blue-iguana', 'indica:orange-afghani', 'hybrid:omega', 'indica:darkside-og', 'indica:purple-martian-kush', 'hybrid:slice-of-heaven', 'hybrid:peachy-mack', 'indica:faygo-red-pop', 'hybrid:eagle-bill', 'sativa:michka', 'hybrid:redd-cross', 'sativa:faded-glory', 'hybrid:siddharthas-dream', 'hybrid:blackberry-cobbler', 'hybrid:purple-jack', 'indica:the-ooze', 'hybrid:chicle', 'hybrid:sunset-haze', 'indica:white-domina', 'sativa:drizella', 'indica:kritikal-k', 'indica:white-caramel-cookies', 'sativa:sourlope', 'hybrid:r-4', 'hybrid:ig-kush', 'indica:american-kush', 'hybrid:alien-sour-apple', 'hybrid:clockwork-orange', 'indica:big-bull', 'sativa:princess', 'indica:rockstar-master-kush', 'hybrid:tickle-kush', 'hybrid:sugar-pine', 'hybrid:griz-kush', 'hybrid:vietnamese-bubba', 'hybrid:six-shooter', 'hybrid:nepalese-jam', 'hybrid:sapphire-scout', 'hybrid:dragon-og', 'hybrid:3rd-coast-panama-chunk', 'hybrid:ladyburn-1974', 'indica:mt-cook', 'indica:green-mango', 'hybrid:glad-max', 'indica:blueberry-waltz', 'hybrid:jimi-hendrix', 'hybrid:logic-diesel', 'indica:blue-kripple', 'hybrid:shiskaquine', 'sativa:cambodian-haze', 'hybrid:tahoe-hydro-champagne', 'sativa:lavender-haze', 'indica:sugar-mama', 'hybrid:honey-lemon-cheese', 'hybrid:dutch-crunch', 'hybrid:blue-boy', 'hybrid:alenuihaha', 'hybrid:little-dragon', 'indica:ultra-banana', 'hybrid:blizzard-bush', 'sativa:golden-tiger', 'hybrid:white-sangria', 'sativa:thunderbird-rose', 'hybrid:kali-dog', 'hybrid:brian-berry-black-currant', 'hybrid:blue-kiss', 'indica:karmarado-og', 'sativa:critical-kali-mist', 'sativa:east-coast-alien', 'indica:california-hash-plant', 'sativa:thai-tanic', 'hybrid:tahoe-frostbite', 'sativa:royal-haze', 'hybrid:chem-jack', 'sativa:kali-47', 'hybrid:tarmonster', 'hybrid:truffula-tree', 'hybrid:space-cream', 'hybrid:sweet-hawaiian-tangie-banana', 'sativa:amnesia-ganja-haze', 'indica:super-chronic', 'indica:sweet-deep-grapefruit', 'hybrid:mean-misty', 'hybrid:chocolate-lava', 'sativa:titans-haze', 'hybrid:g13-widow', 'indica:gods-treat', 'indica:true-x', 'hybrid:frisian-duck', 'sativa:malakoff', 'hybrid:b4', 'sativa:waipi-o-hapa', 'hybrid:big-band', 'hybrid:agharta', 'hybrid:aymi', 'hybrid:berry-larry', 'indica:american-beauty', 'hybrid:cloud-9', 'hybrid:cherwillie', 'hybrid:chuckys-bride', 'hybrid:sasquatch-sap', 'hybrid:atomic-goat', 'sativa:tangerine-trainwreck-haze', 'sativa:nl5-haze-mist', 'hybrid:huckleberry-hound', 'sativa:robert-plant', 'sativa:oregon-pinot-noir', 'indica:fruitylicious', 'indica:colorado-clementines', 'hybrid:atmosphere', 'indica:godfather-purple-kush', 'hybrid:mighty-quin', 'hybrid:travel-joint', 'sativa:la-nina', 'hybrid:sweet-berry', 'sativa:jacky-white', 'hybrid:humboldt-hawaiian', 'hybrid:easy-peezy', 'hybrid:scouts-honor', 'indica:kali-china', 'hybrid:sky-lotus', 'hybrid:maui-bubble-gift', 'indica:g1000', 'hybrid:sugar-calyx', 'indica:terminator-og', 'hybrid:kiss', 'hybrid:royal-tree-sherbet', 'indica:angel-og', 'hybrid:chem-beyond-diesel-cbd', 'hybrid:bandana', 'hybrid:lemon-marmalade', 'hybrid:holy-ghost', 'indica:appleberry', 'hybrid:elderberry-kush', 'hybrid:high-noon-irish-cream', 'sativa:jack-smack', 'hybrid:violet-delight', 'sativa:jahwaiian', 'hybrid:goat-head', 'hybrid:pirate-radio', 'hybrid:bogart', 'sativa:birds-eye', 'indica:athabasca', 'hybrid:lemon-daddy', 'sativa:moondance', 'hybrid:doox-9e52aaec47524b6088792c10b9d341d0', 'indica:ill-og', 'indica:moon-walk', 'sativa:maui-citrus-punch', 'hybrid:jacks-dragon-girl-7', 'hybrid:black-lotus', 'indica:confidential-cookies', 'hybrid:blukashima', 'hybrid:booger', 'hybrid:biker-leblanc', 'hybrid:blackberry-chem-og', 'hybrid:mountain-girl-x-grape-ape', 'hybrid:dutch-dynasty', 'hybrid:dank-sinatra', 'indica:special-kush-1', 'indica:money-maker', 'indica:double-d', 'indica:tahoe-purps', 'sativa:haze-wreck', 'hybrid:mad-dawg', 'indica:iced-widow', 'hybrid:gemstone', 'indica:blue-blood', 'hybrid:the-blintz', 'indica:paris-xxx', 'sativa:swiss-tsunami', 'hybrid:carpet-tape', 'hybrid:earthshaker-og', 'hybrid:sour-urkle', 'indica:zoom-pie', 'hybrid:haole', 'indica:russian-assassin', 'hybrid:jilly-dawg', 'indica:las-vegas-purple-kush-bx', 'indica:x-wing', 'hybrid:rocky-dennis', 'hybrid:superstar', 'hybrid:dutch-queen', 'hybrid:kush-cleaner', 'hybrid:fat-nelson', 'hybrid:moon-cookies', 'hybrid:sweet-pebbles', 'hybrid:the-white-angel', 'hybrid:alien-abduction', 'indica:dolla-sign-og-kush', 'hybrid:purple-dog-shit', 'hybrid:platinum-sour-diesel', 'hybrid:divina-obscura', 'hybrid:bedford-glue', 'indica:ether', 'hybrid:tutti-frutti', 'sativa:ridge-berry', 'hybrid:loud-dream', 'hybrid:blue-hash', 'sativa:jack-wreck', 'hybrid:legalized-og', 'indica:four-way', 'hybrid:four-cups', 'indica:grand-hindu', 'indica:madzilla', 'indica:gravity', 'sativa:sour-star-head', 'indica:gutbuster', 'sativa:hempstar', 'sativa:sumo-grande', 'hybrid:gdp-electric', 'hybrid:qleaner', 'sativa:sequoia-strawberry', 'hybrid:trifecta', 'indica:bell-ringer', 'hybrid:cloudcap', 'sativa:killing-fields', 'indica:power-kush', 'sativa:outlaw', 'hybrid:bootylicious', 'hybrid:romulan-haze', 'indica:godzilla', 'indica:grimace-og', 'hybrid:star-tonic', 'indica:cascadia-kush', 'indica:999', 'hybrid:green-magic', 'hybrid:jack-widow', 'indica:gigabud', 'hybrid:star-pupil', 'hybrid:frosted-freak', 'hybrid:black-cherry-pie', 'indica:black-roses', 'hybrid:elvis', 'hybrid:death-by-cake-og', 'sativa:silver-train', 'hybrid:bc-roadkill', 'sativa:lennon', 'hybrid:champagne-diesel', 'hybrid:alpine-blue', 'hybrid:blackberry-fire', 'hybrid:funfetti', 'sativa:sour-maui', 'indica:durga-mata', 'indica:grape-skunk', 'indica:gandalf-og', 'hybrid:the-wills', 'indica:mazar-kush', 'indica:ingrid', 'indica:wsu', 'indica:space-dawg', 'hybrid:critical-47', 'sativa:django', 'hybrid:violeta', 'hybrid:tillamook-strawberry', 'indica:humdinger-og', 'hybrid:lucy', 'hybrid:valentine-x', 'indica:dakini-kush', 'sativa:space-jill', 'hybrid:true-face', 'indica:dark-side-of-the-moon', 'hybrid:white-girl', 'hybrid:mauna-kea-white-fire-og', 'hybrid:white-smurf', 'indica:bright-fire', 'hybrid:flo-walker', 'hybrid:false-teeth', 'indica:vader-og', 'hybrid:sin-valley-og', 'hybrid:juliet', 'indica:black-bubba', 'hybrid:diesel-glue', 'sativa:carnival', 'hybrid:harry-potter', 'indica:frida', 'indica:devil-fruit', 'sativa:harley-storm', 'hybrid:first-48', 'hybrid:yummy', 'hybrid:professor-chaos', 'indica:blackberry-hashplant', 'indica:kiwiskunk', 'sativa:damn-sour', 'sativa:super-g', 'hybrid:the-gift', 'hybrid:platinum-huckleberry-cookies', 'indica:supergirl', 'indica:flowerbomb-kush', 'hybrid:cherry-slyder', 'hybrid:blue-nightmare', 'indica:digweed', 'indica:mangolicious', 'indica:gobbstopper', 'indica:qush', 'indica:purple-happy-rancher', 'sativa:nightfire-og', 'hybrid:white-queen', 'hybrid:michael-phelps-og', 'sativa:blue-magic', 'hybrid:super-sour-widow', 'hybrid:kill-bill', 'hybrid:deadlights', 'hybrid:chuck-og', 'sativa:legend-of-nigeria', 'hybrid:industrial-plant', 'hybrid:fruity-juice', 'hybrid:sweet-dream', 'sativa:jamaican-pearl', 'indica:shark-attack', 'sativa:arjans-ultra-haze-1', 'indica:grandpa-larry-og', 'hybrid:chocolate-sap', 'sativa:gorkle', 'hybrid:kailua-pua', 'hybrid:alaska-thunder-grape', 'hybrid:doobiebird-daydream', 'hybrid:kuato', 'indica:placenta', 'hybrid:mendo-supremo', 'indica:white-bubblegum', 'sativa:mothers-finest', 'hybrid:blue-jay-way', 'hybrid:don-carlos', 'hybrid:green-avenger', 'indica:aurora-borealis', 'hybrid:bright-moments', 'sativa:cirrus', 'indica:tina', 'hybrid:critical-skunk', 'hybrid:white-gorilla', 'sativa:durban-princess', 'hybrid:frosty-jesus', 'indica:deadwood', 'sativa:euphoria', 'indica:bubble-cheese', 'hybrid:white-castle', 'hybrid:one-to-one', 'hybrid:black-magic', 'hybrid:blue-champange', 'hybrid:purple-frost', 'indica:pez', 'sativa:strawberry-mango-haze', 'hybrid:maui-pineapple-chunk', 'hybrid:white-romulan', 'indica:merlot-og', 'hybrid:tokyo-og', 'indica:commerce-city-kush', 'hybrid:cabbage-patch', 'hybrid:northern-skunk', 'indica:chr-super-og', 'indica:purple-linda', 'hybrid:blueberry-jack', 'indica:8-ball-kush', 'indica:b-52', 'sativa:astroboy', 'hybrid:cookie-jar', 'hybrid:blurple', 'hybrid:blue-thai', 'sativa:chocolate-thunder', 'hybrid:alchemy', 'hybrid:la-kookies', 'sativa:kilimanjaro', 'hybrid:alien-apparition', 'hybrid:diamond-valley-kush', 'indica:green-dragon', 'hybrid:beast-mode-og', 'hybrid:river-song', 'hybrid:platinum-wreck', 'hybrid:white-diesel', 'indica:big-bang', 'hybrid:gremlin', 'hybrid:cherry-cream-pie', 'hybrid:fruit-spirit', 'hybrid:russian-rocket-fuel', 'sativa:voodoo', 'sativa:pineapple-haze', 'hybrid:kush-rise', 'indica:hashbar-og', 'hybrid:goji-diesel', 'hybrid:ghetto-bird', 'hybrid:ramses', 'sativa:green-crack-extreme', 'hybrid:blue-venom', 'hybrid:cbd-blue-shark', 'indica:og-los-angeles-kush', 'indica:pink-berry', 'hybrid:blueberry-lambsbread', 'sativa:stella-blue', 'hybrid:caramel-kona-coffee-cookies', 'indica:white-kush', 'hybrid:sapphire-star', 'hybrid:crater-lake', 'indica:crown-royale', 'hybrid:purple-crack', 'hybrid:glass-apple', 'indica:pamelina', 'hybrid:thai-fantasy', 'indica:white-dragon', 'sativa:doctor-doctor', 'hybrid:jesus', 'indica:triple-cheese', 'indica:blue-alien', 'hybrid:silver-cindy', 'hybrid:black-out', 'hybrid:designer-og', 'hybrid:red-diesel', 'indica:rainbow-jones', 'hybrid:red-widow', 'sativa:silverhawks-og', 'hybrid:blackberry-trainwreck', 'hybrid:the-void', 'indica:pink-bubba', 'sativa:blackberry-lime-haze', 'indica:sweet-black-angel', 'hybrid:luca-brasi-x-sour-diesel', 'hybrid:la-woman', 'indica:91-krypt', 'sativa:tangie-ghost-train', 'sativa:c13-haze', 'sativa:sleeskunk', 'hybrid:chocolate-rain', 'sativa:strawberry-amnesia', 'hybrid:chemdawg-4-x-alien-og-kush', 'hybrid:bango', 'hybrid:citrus-rush', 'hybrid:amethyst', 'hybrid:purple-widow', 'hybrid:white-siberian', 'hybrid:rudeboi-og', 'hybrid:truth-serum', 'hybrid:fruity-widow', 'indica:church-og', 'indica:purple-cheddar', 'hybrid:aloha-grape-stomper', 'indica:wmd', 'indica:krishna-kush', 'sativa:white-lsd', 'hybrid:four-star-general', 'hybrid:road-dawg', 'hybrid:strawberry-blondie', 'sativa:sour-breath', 'hybrid:durban-berry', 'sativa:leonidas', 'sativa:in-the-pines', 'indica:hades-og', 'indica:double-mint', 'hybrid:pink-mango', 'indica:brains-damage', 'hybrid:cbd-og', 'hybrid:melon-gum', 'hybrid:jacked-up', 'hybrid:trash', 'hybrid:killer-grape', 'sativa:sweet-amnesia-haze', 'hybrid:afghan-widow', 'hybrid:heaven-scent', 'hybrid:early-skunk', 'hybrid:jacks-dream', 'indica:beast-mode-20', 'hybrid:locktite', 'hybrid:lemon-jeffery', 'indica:gods-bubba', 'sativa:firewalker-og', 'indica:nova', 'hybrid:mai-tai-cookies', 'hybrid:the-third-dimension', 'sativa:sour-jack', 'indica:white-kryptonite', 'indica:golden-state-banana', 'hybrid:chem-valley-kush', 'indica:super-cheese', 'sativa:afghan-cow', 'hybrid:walter-white', 'indica:punky-lion', 'indica:harmonia', 'hybrid:blue-nina', 'hybrid:loud-lemonade', 'sativa:santa-sativa', 'indica:skunk-plus', 'indica:sensi-skunk', 'hybrid:black-velvet', 'indica:ghost-og-moonshine', 'sativa:velvet-bud', 'indica:master-jedi', 'indica:martian-muffins', 'hybrid:orange-haze', 'indica:electric-black-mamba', 'sativa:light-of-jah', 'indica:blackberry-bubble', 'hybrid:yogi-diesel', 'sativa:johnnys-tonic', 'hybrid:julius-caesar', 'sativa:haze-berry', 'hybrid:lemonhead-og', 'hybrid:cherry-vanilla-cookies', 'sativa:zellys-gift', 'hybrid:alien-reunion', 'sativa:thors-hammer', 'hybrid:juicy-jack', 'indica:aliens-on-moonshine', 'sativa:red-haze', 'hybrid:shurman', 'hybrid:g13-diesel', 'hybrid:cherry-cookies', 'hybrid:white-urkle', 'hybrid:gucci-og', 'hybrid:grandma-andersons-cookies', 'hybrid:orange-snow-cone', 'indica:pink-death-star', 'indica:sour-bubba', 'indica:northernberry', 'sativa:alien-stardawg', 'indica:stardawg-91', 'hybrid:nebula-ii-cbd', 'hybrid:pineapple-upside-down-cake', 'hybrid:ambrosia', 'sativa:shining-silver-haze', 'hybrid:cherry-thunder-fuck', 'indica:primus', 'hybrid:connie-chung', 'sativa:pineapple-fields', 'hybrid:rebel-berry-og', 'hybrid:white-chocolate', 'hybrid:snowland', 'indica:pure-og', 'hybrid:mango-habanero', 'indica:biochem', 'indica:snow-monster', 'hybrid:animal-blues', 'indica:purple-berry', 'hybrid:charlie-sheen', 'hybrid:sfv-dog', 'indica:black-afghan', 'hybrid:dog-face', 'hybrid:pineapple-sage-0c9f3c369b6a422f94ef911b8ba67373', 'indica:goldberry', 'hybrid:valley-girl', 'hybrid:milf', 'hybrid:american-dream', 'hybrid:hemlock', 'hybrid:mothers-milk', 'indica:berries--crme', 'hybrid:kong', 'hybrid:bazooka-joe-g', 'sativa:blue-mountain-fire', 'hybrid:versace', 'indica:snow-leopard', 'indica:weebes-world', 'hybrid:x-files', 'hybrid:gummy-bears', 'hybrid:brainwreck', 'indica:garlic-bud', 'sativa:mother-tongue', 'hybrid:balmoral', 'indica:chocolate-chunk', 'indica:hammerhead', 'indica:chem-scout', 'sativa:stardawg-guava', 'indica:el-jeffe', 'sativa:lemon-bubble', 'hybrid:duke-nukem', 'hybrid:madman-og', 'hybrid:mighty-glue', 'hybrid:game-changer', 'hybrid:jack-of-spades', 'hybrid:green-cheese', 'indica:stephen-hawking-kush', 'indica:jawa-pie', 'hybrid:bodega-bubblegum', 'sativa:dutch-haze', 'hybrid:purple-tears', 'hybrid:grandmas-batch', 'indica:fred-flipn-stoned', 'hybrid:sour-headband', 'hybrid:confidential-wreck', 'hybrid:kaia-kush', 'hybrid:kens-kush', 'hybrid:puna-budder', 'indica:mataro-blue', 'hybrid:california-love-og', 'hybrid:gabriel-sherbet', 'sativa:golden-tangie', 'hybrid:blue-galaxy', 'hybrid:blue-cinex', 'hybrid:mandala-1', 'sativa:slazerbeam', 'hybrid:afghan-diesel', 'indica:purple-people-eater', 'hybrid:lemonchello-28', 'hybrid:lemonder', 'hybrid:big-kush', 'hybrid:og-glue-sniffer', 'hybrid:chemmy-jones', 'sativa:blackberry-haze', 'hybrid:tangie-dream', 'sativa:sky-master', 'hybrid:ecto-cooler', 'sativa:bertberry-cheesecake', 'sativa:sonic-screwdriver', 'hybrid:california-sour-diesel', 'hybrid:purple-ak-47', 'hybrid:bear-dance', 'hybrid:nuclear-cookies', 'hybrid:golden-gage', 'hybrid:the-lime', 'indica:grape-ox', 'hybrid:kushage', 'sativa:emerald-jack', 'hybrid:tina-danza', 'hybrid:hell-raiser-og', 'hybrid:berry-bomb', 'hybrid:ogiesel', 'hybrid:monster-og', 'sativa:y-griega', 'sativa:bob-saget', 'indica:grand-doggy-purps', 'indica:master-og', 'sativa:strawberry-blue', 'hybrid:kalashnikova', 'hybrid:tuna-og', 'hybrid:emperor-cookie-dough', 'hybrid:berry-og', 'hybrid:colorado-chem-rbx3', 'hybrid:cackleberry', 'hybrid:dream-machine', 'indica:super-kush', 'hybrid:electric-kool-aid', 'hybrid:future', 'indica:skunk-47', 'hybrid:mango-sherbert', 'hybrid:white-lavender', 'indica:chocolate-og', 'hybrid:hurkle', 'hybrid:blueberry-diesel', 'sativa:seattle-cough', 'hybrid:blue-crack', 'hybrid:sunshine-4', 'hybrid:carl-sagan', 'hybrid:grape-crush', 'hybrid:sour-cherry-sherbert', 'indica:tora-bora', 'hybrid:orange-blossom', 'indica:paris-og', 'hybrid:blue-raspberry-snow-cone', 'hybrid:seattlesoda', 'hybrid:atomic', 'hybrid:mochi', 'indica:purple-swish', 'hybrid:sweet-harlem-diesel', 'hybrid:og-wreck', 'hybrid:apple-kush', 'sativa:swazi-gold', 'sativa:amnesi-k-lemon', 'indica:brandywine', 'hybrid:orange-dream', 'sativa:tesla-tower', 'sativa:pineapple-super-silver-haze', 'sativa:blackberry-diesel', 'hybrid:colin-og-s1', 'hybrid:zeus-og', 'hybrid:godzilla-glue', 'hybrid:cronuts', 'hybrid:sugar-punch', 'hybrid:dr-feelgood', 'hybrid:marcosus-marshmellow', 'hybrid:purple-raine', 'hybrid:lemon-og-haze', 'indica:mazari', 'indica:gas-mask', 'hybrid:savage-citrus-sunshine', 'hybrid:lamborghini', 'hybrid:blueberry-pancakes', 'indica:dank-schrader', 'hybrid:caramel-candy-kush', 'indica:afghan-sour-kush', 'indica:rocklock', 'indica:candy-cane', 'hybrid:orient-express', 'sativa:buddha-haze', 'hybrid:dutchberry', 'hybrid:zelda', 'indica:hulkamania', 'hybrid:wookie', 'hybrid:slimer-og', 'hybrid:tesla', 'indica:platinum-purple-kush', 'hybrid:blue-goo', 'indica:tranquil-elephantizer-remix', 'sativa:nypd', 'indica:master-bubba', 'indica:josh-d-og', 'hybrid:strawberry-alien-kush', 'hybrid:dinachem', 'hybrid:nanas-fix', 'sativa:electric-lemonade', 'indica:bubbas-bitch', 'hybrid:blueberry-ak', 'indica:ghost-rider-og', 'hybrid:orange-skunk', 'hybrid:thaidal-wave', 'sativa:wet-dream', 'sativa:jack-diesel', 'indica:washing-machine', 'hybrid:astral-works', 'sativa:alaskan-ice', 'hybrid:urkle-train-haze', 'hybrid:lemon-larry-lavender', 'indica:donkey-butter', 'indica:dr-funk', 'indica:the-doctor', 'hybrid:og-purple-fire-thai', 'hybrid:cold-creek-kush', 'indica:fat-purple', 'indica:incredible-bulk', 'hybrid:lemonberry', 'sativa:sour-haze', 'sativa:lemon-cake', 'sativa:powderhound', 'hybrid:white-walker-kush', 'hybrid:cherry-sherbet', 'hybrid:rainbow', 'indica:burkle', 'hybrid:green-goddess', 'indica:grape-valley-kush', 'indica:satellite-og', 'indica:tangerine-kush', 'hybrid:karma-og', 'hybrid:blue-widow', 'indica:northern-wreck', 'sativa:tardis', 'sativa:megalodon', 'hybrid:ripped-bubba', 'hybrid:chiesel', 'hybrid:martian-candy', 'indica:jorges-diamond', 'hybrid:peppermint-cookies', 'indica:double-og', 'indica:bubba-berry', 'sativa:space-needle', 'hybrid:durban-cheese', 'hybrid:ice-princess', 'hybrid:orange-kush-breath', 'hybrid:alien-breath', 'indica:himalayan-blackberry', 'hybrid:quebec-gold', 'sativa:dutch-dragon', 'sativa:hawaiian-dream', 'sativa:amnesia-og', 'sativa:viper', 'hybrid:kurple-fantasy', 'indica:night-nurse', 'sativa:citrus-punch', 'hybrid:bubblegun', 'hybrid:tangerine-power', 'indica:anubis', 'hybrid:super-sour-lemon', 'indica:katsu-kush', 'hybrid:cookie-breath', 'hybrid:blue-train', 'hybrid:blueberry-pie', 'sativa:silver-kush', 'indica:deathstar-og', 'sativa:white-durban', 'hybrid:sweet-skunk', 'indica:black-ice', 'indica:trap-star', 'indica:nicole-kush', 'hybrid:bloodwalker', 'sativa:pineapple-punch', 'hybrid:blue-og', 'hybrid:rolls-choice', 'hybrid:the-grunk', 'hybrid:disney-blue', 'sativa:santa-maria', 'hybrid:afrodite', 'sativa:lemon-crme', 'hybrid:vcdc', 'hybrid:541-kush', 'hybrid:pink-cookies', 'hybrid:white-slipper', 'hybrid:cowboy-kush', 'indica:night-train', 'hybrid:wheres-my-bike', 'sativa:fighting-buddha', 'hybrid:predator-pink', 'sativa:hayleys-haze', 'hybrid:kt-dawg', 'hybrid:cheese-candy', 'hybrid:critters-cookies', 'sativa:strawberry-lemonade', 'hybrid:blue-kush', 'hybrid:lavender-jones', 'sativa:maui', 'indica:gobbilygoo', 'sativa:kerala-krush', 'hybrid:citrix', 'indica:grape-inferno', 'hybrid:sour-lemon-og', 'hybrid:pink-starburst', 'hybrid:k2', 'sativa:pineapple-jack', 'hybrid:bugatti-og', 'hybrid:raw-diesel', 'hybrid:lambs-in-space', 'indica:grape-drink', 'hybrid:pineapple-skunk', 'hybrid:larry-bird-kush', 'hybrid:chocolate-drop', 'hybrid:lake-of-fire', 'sativa:mango-dream', 'indica:lak-federal-reserve', 'hybrid:critical-jack', 'sativa:dutch-hawaiian', 'hybrid:cookies-and-dream', 'hybrid:og-cheese', 'hybrid:blueberry-silvertip', 'hybrid:pacific-frost', 'indica:queen-mother-goji', 'indica:cuvee', 'indica:whitewalker-og', 'hybrid:space-bomb', 'hybrid:dragons-breath', 'indica:trueberry', 'indica:blue-steel', 'hybrid:biohazard', 'indica:strawberry-cheesecake', 'indica:zombie-kush', 'hybrid:white-ice', 'hybrid:american-pie', 'hybrid:la-blanca', 'sativa:white-haze', 'hybrid:fruit-loops', 'hybrid:intergalactic', 'hybrid:don-shula', 'indica:superman-og', 'hybrid:critical-cheese', 'indica:extreme-cream', 'indica:presidential-og', 'sativa:sour-poison', 'sativa:middlefork-x-pineapple-express', 'hybrid:longbottom-leaf', 'hybrid:afwreck', 'hybrid:stinky-pete', 'hybrid:cherry-diesel', 'hybrid:loud-scout', 'sativa:dance-world', 'hybrid:bubba-x-skunk', 'indica:funky-monkey', 'indica:pink-panties', 'indica:blue-lights', 'hybrid:gorilla-girl', 'hybrid:master-yoda', 'sativa:devils-tit', 'hybrid:huckleberry-diesel', 'hybrid:mint-chocolate-chip', 'hybrid:purple-dream', 'hybrid:sour-sunset', 'hybrid:white-gold', 'sativa:triple-diesel', 'sativa:panama-punch', 'sativa:lemon-ice', 'sativa:electric-lemon-g', 'hybrid:super-lemon-og', 'hybrid:ultra-sonja', 'hybrid:maui-mango-diesel', 'indica:purple-chemdawg', 'indica:double-tap', 'hybrid:blowfish', 'hybrid:shangri-la', 'indica:ultraviolet-og', 'sativa:double-diesel', 'hybrid:wtf', 'hybrid:bad-azz-kush', 'sativa:agape', 'indica:focaccia', 'hybrid:lil-sebastian', 'hybrid:mystery-98', 'hybrid:rocket-fuel', 'hybrid:sour-dream', 'hybrid:new-glue', 'sativa:elphinstone', 'sativa:strawberry-durban-diesel', 'hybrid:lemon-wreck', 'hybrid:wakanda-og', 'sativa:chocolate-skunk', 'hybrid:red-poison', 'hybrid:lem-chem', 'indica:white-berry', 'sativa:purple-tangie', 'hybrid:head-cheese', 'sativa:black-diesel', 'hybrid:panda-og', 'hybrid:orange-diesel', 'hybrid:royal-kush', 'hybrid:birds-of-paradise', 'hybrid:grand-hustle', 'hybrid:golden-ticket', 'indica:blue-god', 'indica:ogre-berry', 'sativa:flo-limone', 'indica:pacific-blue', 'sativa:medihaze', 'indica:violator-kush', 'hybrid:boss-hogg', 'hybrid:hazmat-og', 'indica:banana-hammock-r1', 'hybrid:member-berry', 'indica:jelly-roll', 'sativa:super-green-crack', 'sativa:bangi-haze', 'sativa:purple-power', 'hybrid:euphoria-cookies', 'hybrid:heavy-duty-fruity', 'indica:purple-cotton-candy', 'hybrid:sour-chees', 'hybrid:jungle-juice', 'hybrid:medicine-woman', 'sativa:ultra-sour', 'indica:chem-dog', 'hybrid:pearl-scout-cookies', 'indica:kubbie-kush', 'indica:lee-roy', 'hybrid:lemon-sorbet-3', 'indica:blue-knight', 'hybrid:rise-n-shine', 'hybrid:mothers-helper', 'indica:3x-crazy', 'hybrid:mt-hood-magic', 'hybrid:dreamcatcher', 'hybrid:critical-haze', 'hybrid:deep-cheese', 'indica:critical-plus-20', 'indica:tuna-kush', 'indica:purple-bubba', 'hybrid:chocolope-kush', 'hybrid:jack-haze', 'sativa:brainstorm-haze', 'hybrid:blueberry-yum-yum', 'hybrid:pine-queen-dream', 'sativa:cracker-jack', 'indica:5th-element', 'sativa:love-potion', 'hybrid:raindance', 'hybrid:black-betty', 'indica:ayahuasca-purple', 'hybrid:captains-cake', 'indica:phishhead-kush', 'sativa:sweet-cheese', 'indica:pink-sunset', 'hybrid:grape-dawg', 'hybrid:grapefruit-diesel', 'indica:barbara-bud', 'sativa:narnia', 'hybrid:100-og', 'sativa:moby-dick', 'sativa:spk', 'hybrid:blue-sky', 'sativa:island-haze', 'hybrid:franks-gift', 'indica:black-dog', 'hybrid:purple-sour-diesel', 'hybrid:purple-animal-cookies', 'hybrid:ninja-fruit', 'indica:green-kush', 'hybrid:purple-aurora', 'indica:jesses-girl', 'sativa:orange-durban', 'hybrid:critical-bilbo', 'hybrid:gorilla-cookies', 'hybrid:big-smooth', 'hybrid:treasure-island', 'hybrid:green-line-og', 'sativa:full-moon', 'indica:sugar-black-rose', 'hybrid:hippie-crippler', 'hybrid:critical-widow', 'indica:bakerstreet', 'hybrid:la-chocolat', 'indica:argyle', 'hybrid:purple-paralysis', 'hybrid:chemwreck', 'indica:blueberry-space-cake', 'sativa:sour-joker', 'indica:sour-ape', 'hybrid:cherry-durban-poison', 'hybrid:glue-tech', 'sativa:allen-wrench', 'hybrid:banjo', 'sativa:ak-49', 'indica:buddha-tahoe', 'indica:alien-bubba', 'indica:818-og', 'hybrid:guptilla', 'hybrid:lemon-walker-og', 'hybrid:coconut-oil', 'hybrid:golden-nugget', 'hybrid:wonka-s-bubbilicious', 'indica:rollex-og-kush', 'hybrid:cherry-skunk', 'hybrid:strawberry-og', 'sativa:red-congolese', 'indica:nuken', 'hybrid:monkey-thunder', 'indica:purple-monkey-balls', 'indica:peyote-cookies', 'hybrid:earth-og', 'indica:critical-sensi-star', 'hybrid:mango-tango', 'hybrid:cookie-dough', 'hybrid:marionberry-kush', 'hybrid:face-on-fire', 'hybrid:chunky-diesel', 'indica:cadillac-cookies', 'hybrid:sour-candy', 'hybrid:blue-frost', 'sativa:crystal-coma', 'sativa:the-blood', 'hybrid:karma-bitch', 'hybrid:banana-split', 'hybrid:the-truth', 'indica:deep-sleep', 'sativa:candy-jack', 'indica:jah-goo', 'hybrid:lemon-banana-sherbet', 'indica:rip-city-purps', 'hybrid:la-sunshine', 'hybrid:phantom-cookies', 'hybrid:dream-girl', 'sativa:destroyer', 'hybrid:green-queen', 'hybrid:strawberry-kush', 'hybrid:gummo', 'hybrid:serious-happiness', 'indica:kushadelic', 'sativa:northern-lights-5-x-haze', 'hybrid:black-haze', 'sativa:tangilope', 'indica:3-bears-og', 'indica:death-bubba', 'hybrid:black-cherry-cheesecake', 'hybrid:blueberry-headband', 'hybrid:acid', 'indica:afghani-cbd', 'hybrid:afcrack', 'sativa:acid-dough', 'hybrid:lemon-diesel', 'sativa:durban-cookies', 'hybrid:cbd-kush', 'indica:flo-og', 'indica:flaming-cookies', 'hybrid:gorilla-snacks', 'sativa:super-jack', 'hybrid:banana-cream-og', 'indica:lime-sorbet', 'hybrid:monkey-paw', 'indica:cream-caramel', 'hybrid:keystone-kush', 'indica:critical-hog', 'hybrid:og-sour-diesel', 'hybrid:pheno-51', 'hybrid:white-cheese', 'hybrid:blackberry-dream', 'sativa:nurse-jackie', 'indica:night-terror-og', 'sativa:memory-loss', 'indica:cactus', 'indica:bubba-og', 'indica:purple-wreck', 'hybrid:wookies', 'hybrid:bluniverse', 'hybrid:harlequin-gdp', 'hybrid:super-sour-skunk', 'hybrid:chupacabra', 'indica:blackberry-x-blueberry', 'indica:strawberry-fields', 'hybrid:guava-gelato', 'hybrid:purple-voodoo', 'hybrid:la-cake', 'sativa:heisenberg-kush', 'sativa:galactic-jack', 'indica:bubblegum-kush', 'hybrid:red-cherry-berry', 'indica:kushberry', 'hybrid:super-sour-og', 'indica:blackberry-cream', 'hybrid:double-dream', 'hybrid:blueberry-cookies', 'sativa:moonshine-haze', 'sativa:sojay-haze', 'hybrid:orange-creamsicle', 'sativa:hawaiian-punch', 'hybrid:dawgs-waltz', 'indica:yoda-og', 'indica:training-day', 'hybrid:apple-jack', 'hybrid:bio-jesus', 'hybrid:gilz-nilz', 'sativa:southern-lights', 'sativa:lemon-meringue', 'indica:buddhas-sister', 'hybrid:og-skunk', 'hybrid:raskal-og', 'hybrid:chocolate-hashberry', 'hybrid:royal-highness', 'hybrid:roz', 'indica:big-mac', 'indica:papaya', 'indica:salmon-river-og', 'sativa:mountain-thunder', 'hybrid:buddhas-hand', 'hybrid:scroopy-noopers', 'indica:blue-zkittlez', 'indica:joliet-jake', 'hybrid:diesel-dough', 'hybrid:black-dhalia', 'hybrid:blue-cookies', 'sativa:red-headed-stranger', 'indica:bubbas-gift', 'sativa:incredible-hulk', 'hybrid:j1', 'hybrid:nightmare-cookies', 'sativa:green-lantern', 'hybrid:holy-roller', 'sativa:hurricane', 'hybrid:king-kong', 'hybrid:white-skunk', 'indica:locomotion', 'indica:sexxpot', 'hybrid:golden-lemon', 'sativa:chocolate-fondue', 'hybrid:blue-wreck', 'sativa:jackalope', 'hybrid:superglue', 'hybrid:cookie-wreck', 'hybrid:punxsy-punch', 'indica:831-og', 'indica:honey-boo-boo', 'hybrid:sour-power-og', 'indica:california-grapefruit', 'hybrid:mimosa', 'indica:green-love-potion', 'indica:strawberry-frost', 'hybrid:queens-panties', 'sativa:jamaican-dream', 'hybrid:orange-cookies', 'hybrid:sour-patch-kiss', 'indica:cherry-kola', 'hybrid:bogglegum', 'hybrid:magnum-opus', 'hybrid:lifestar', 'hybrid:sour-boggle', 'indica:yodas-brain', 'hybrid:sour-cookies', 'indica:phantom-arrow', 'hybrid:elmers-glue', 'sativa:cat-piss', 'hybrid:mexican-kush', 'hybrid:space-poison', 'hybrid:willie-berrie', 'hybrid:willie-cheesie', 'hybrid:willies-ghost', 'hybrid:kush-ben-yamini', 'hybrid:super-silver-bullet', 'hybrid:citral-glue', 'hybrid:csg', 'hybrid:tachllta-till', 'hybrid:kahavvai-mode', 'hybrid:fauxsido', 'hybrid:face-off-bx2', 'hybrid:grape-smuggler', 'hybrid:grape-vine', 'hybrid:granddaddy-wonder', 'hybrid:lemon-prevention', 'hybrid:banana-bread', 'sativa:alice-in-wonderland', 'indica:ancient-og', 'hybrid:alien-rock-candy', 'hybrid:apollo-haze', 'indica:black-diamond', 'indica:afghan-big-bud', 'indica:afgahni-bullrider', 'hybrid:aberdeen', 'hybrid:duct-tape', 'hybrid:og-strawberry-star-killer', 'indica:platinum-bubba-kush', 'hybrid:atomic-northern-lights', 'hybrid:banana-diesel', 'indica:g-force', 'hybrid:thai-lights', 'hybrid:high-five', 'hybrid:nchoosha-y', 'hybrid:dedutch', 'hybrid:plum-dawg-millionaire', 'indica:purple-killer', 'hybrid:sage-walker', 'indica:pure-love', 'hybrid:dream-lotus', 'hybrid:snow-diesel', 'indica:hardcore-og', 'indica:tigermelon', 'indica:jupiter-og', 'indica:cbd-critical-mass', 'sativa:tutankhamon', 'hybrid:race-fuel-og', 'hybrid:laughing-gas', 'hybrid:tangerine-dream', 'hybrid:jean-guy', 'indica:deep-purple', 'hybrid:liberty-haze', 'indica:grape-cookies', 'indica:dirty-old-bastard', 'indica:vanilla-kush', 'hybrid:bruce-banner-3', 'hybrid:501st-og', 'indica:mendo-breath', 'indica:bb-king', 'indica:sweet-and-sour-widow', 'hybrid:donegal', 'hybrid:dark-blue-dream', 'indica:black-lime-special-reserve', 'indica:ice-cream-cake', 'hybrid:sugar-cookie', 'indica:cbd-critical-cure', 'hybrid:sour-grape', 'indica:truffle-butter', 'hybrid:ghost-cookies', 'sativa:dream-beaver', 'sativa:fruit-punch', 'hybrid:walker-kush', 'hybrid:og-strawberry', 'sativa:sweet-jane', 'hybrid:gods-green-crack', 'hybrid:purple-headband', 'indica:anesthesia', 'indica:chronic-thunder', 'indica:nordle', 'hybrid:blueberry-haze', 'sativa:sweet-jesus', 'sativa:laughing-buddha', 'indica:purple-hindu-kush', 'indica:blueberry-kush', 'hybrid:blueberry-muffins', 'hybrid:a-train', 'indica:purple-mr-nice', 'indica:mendo-afgoo', 'indica:a-10', 'hybrid:a-dub', 'hybrid:snoop-s-dream', 'hybrid:white-99', 'indica:crouching-tiger-hidden-alien', 'hybrid:crocketts-haze', 'sativa:cbd-mango-haze', 'hybrid:alien-hallucination', 'hybrid:white-dream', 'sativa:cbd-rich-blessing', 'hybrid:pure-power-plant', 'indica:white-tahoe-cookies', 'indica:cornbread', 'indica:ace-killer-og', 'sativa:strawberry-blonde', 'hybrid:cindy-haze', 'hybrid:sweet--sour-cindy', 'hybrid:sweet-cindy', 'hybrid:pineapple-zest', 'indica:prevention', 'indica:bog-blue-kush', 'hybrid:apollo-13-haze', 'hybrid:blue-velvet', 'hybrid:ak-48', 'hybrid:scotts-og', 'indica:black-mamba', 'hybrid:chiquita-banana', 'hybrid:forum-cut-cookies-s1', 'indica:bog-sour-grape', 'hybrid:xj-13', 'hybrid:super-blue-dream', 'hybrid:white-lightning', 'sativa:serious-6', 'sativa:kerosene', 'indica:papas-og', 'indica:jr', 'sativa:green-goblin', 'hybrid:ice-wreck', 'hybrid:birthday-cake-kush', 'hybrid:jenny-kush', 'sativa:sun-ra', 'indica:guard-dawg', 'hybrid:honey-bananas', 'sativa:white-buffalo', 'hybrid:boss-og']\n"
     ]
    }
   ],
   "source": [
    "leaf_nodes=[]\n",
    "for (strain_id,value) in G.out_degree():\n",
    "    if value == 0:\n",
    "        leaf_nodes.append(strain_id)\n",
    "print(len(leaf_nodes))\n",
    "print(leaf_nodes)"
   ]
  },
  {
   "cell_type": "code",
   "execution_count": 30,
   "metadata": {},
   "outputs": [],
   "source": [
    "# We already filtered out unconnected strains, so we shouldn't have any here\n",
    "for (strain_id, value) in G.degree():\n",
    "    assert value != 0, \"No vertices should be unconnected\""
   ]
  },
  {
   "cell_type": "code",
   "execution_count": 31,
   "metadata": {},
   "outputs": [],
   "source": [
    "df_nodes.insert(2,'depth',-1)\n"
   ]
  },
  {
   "cell_type": "code",
   "execution_count": 32,
   "metadata": {},
   "outputs": [
    {
     "data": {
      "text/html": [
       "<div>\n",
       "<style scoped>\n",
       "    .dataframe tbody tr th:only-of-type {\n",
       "        vertical-align: middle;\n",
       "    }\n",
       "\n",
       "    .dataframe tbody tr th {\n",
       "        vertical-align: top;\n",
       "    }\n",
       "\n",
       "    .dataframe thead th {\n",
       "        text-align: right;\n",
       "    }\n",
       "</style>\n",
       "<table border=\"1\" class=\"dataframe\">\n",
       "  <thead>\n",
       "    <tr style=\"text-align: right;\">\n",
       "      <th></th>\n",
       "      <th>cat_effect</th>\n",
       "      <th>cat_flavor</th>\n",
       "      <th>depth</th>\n",
       "      <th>cat_med</th>\n",
       "      <th>cat_neg</th>\n",
       "      <th>cat_type</th>\n",
       "      <th>name</th>\n",
       "    </tr>\n",
       "    <tr>\n",
       "      <th>strain_id</th>\n",
       "      <th></th>\n",
       "      <th></th>\n",
       "      <th></th>\n",
       "      <th></th>\n",
       "      <th></th>\n",
       "      <th></th>\n",
       "      <th></th>\n",
       "    </tr>\n",
       "  </thead>\n",
       "  <tbody>\n",
       "    <tr>\n",
       "      <th>hybrid:sweet-nina</th>\n",
       "      <td>0</td>\n",
       "      <td>12</td>\n",
       "      <td>-1</td>\n",
       "      <td>0</td>\n",
       "      <td>0</td>\n",
       "      <td>1</td>\n",
       "      <td>Sweet Nina</td>\n",
       "    </tr>\n",
       "    <tr>\n",
       "      <th>hybrid:golden-ticket</th>\n",
       "      <td>0</td>\n",
       "      <td>10</td>\n",
       "      <td>-1</td>\n",
       "      <td>0</td>\n",
       "      <td>2</td>\n",
       "      <td>1</td>\n",
       "      <td>Golden Ticket</td>\n",
       "    </tr>\n",
       "    <tr>\n",
       "      <th>hybrid:grand-hustle</th>\n",
       "      <td>13</td>\n",
       "      <td>13</td>\n",
       "      <td>-1</td>\n",
       "      <td>0</td>\n",
       "      <td>4</td>\n",
       "      <td>1</td>\n",
       "      <td>Grand Hustle</td>\n",
       "    </tr>\n",
       "    <tr>\n",
       "      <th>indica:diablo</th>\n",
       "      <td>9</td>\n",
       "      <td>36</td>\n",
       "      <td>-1</td>\n",
       "      <td>0</td>\n",
       "      <td>4</td>\n",
       "      <td>2</td>\n",
       "      <td>Diablo</td>\n",
       "    </tr>\n",
       "    <tr>\n",
       "      <th>hybrid:birds-of-paradise</th>\n",
       "      <td>7</td>\n",
       "      <td>15</td>\n",
       "      <td>-1</td>\n",
       "      <td>1</td>\n",
       "      <td>4</td>\n",
       "      <td>1</td>\n",
       "      <td>Birds of Paradise</td>\n",
       "    </tr>\n",
       "    <tr>\n",
       "      <th>indica:rockstar</th>\n",
       "      <td>9</td>\n",
       "      <td>13</td>\n",
       "      <td>-1</td>\n",
       "      <td>3</td>\n",
       "      <td>3</td>\n",
       "      <td>2</td>\n",
       "      <td>Rockstar</td>\n",
       "    </tr>\n",
       "    <tr>\n",
       "      <th>hybrid:royal-kush</th>\n",
       "      <td>7</td>\n",
       "      <td>29</td>\n",
       "      <td>-1</td>\n",
       "      <td>0</td>\n",
       "      <td>3</td>\n",
       "      <td>1</td>\n",
       "      <td>Royal Kush</td>\n",
       "    </tr>\n",
       "    <tr>\n",
       "      <th>hybrid:orange-diesel</th>\n",
       "      <td>9</td>\n",
       "      <td>25</td>\n",
       "      <td>-1</td>\n",
       "      <td>0</td>\n",
       "      <td>4</td>\n",
       "      <td>1</td>\n",
       "      <td>Orange Diesel</td>\n",
       "    </tr>\n",
       "    <tr>\n",
       "      <th>hybrid:panda-og</th>\n",
       "      <td>9</td>\n",
       "      <td>3</td>\n",
       "      <td>-1</td>\n",
       "      <td>0</td>\n",
       "      <td>4</td>\n",
       "      <td>1</td>\n",
       "      <td>Panda OG</td>\n",
       "    </tr>\n",
       "    <tr>\n",
       "      <th>hybrid:lucid-dream</th>\n",
       "      <td>13</td>\n",
       "      <td>3</td>\n",
       "      <td>-1</td>\n",
       "      <td>4</td>\n",
       "      <td>4</td>\n",
       "      <td>1</td>\n",
       "      <td>Lucid Dream</td>\n",
       "    </tr>\n",
       "  </tbody>\n",
       "</table>\n",
       "</div>"
      ],
      "text/plain": [
       "                          cat_effect  cat_flavor  depth  cat_med  cat_neg  \\\n",
       "strain_id                                                                   \n",
       "hybrid:sweet-nina                  0          12     -1        0        0   \n",
       "hybrid:golden-ticket               0          10     -1        0        2   \n",
       "hybrid:grand-hustle               13          13     -1        0        4   \n",
       "indica:diablo                      9          36     -1        0        4   \n",
       "hybrid:birds-of-paradise           7          15     -1        1        4   \n",
       "indica:rockstar                    9          13     -1        3        3   \n",
       "hybrid:royal-kush                  7          29     -1        0        3   \n",
       "hybrid:orange-diesel               9          25     -1        0        4   \n",
       "hybrid:panda-og                    9           3     -1        0        4   \n",
       "hybrid:lucid-dream                13           3     -1        4        4   \n",
       "\n",
       "                          cat_type               name  \n",
       "strain_id                                              \n",
       "hybrid:sweet-nina                1         Sweet Nina  \n",
       "hybrid:golden-ticket             1      Golden Ticket  \n",
       "hybrid:grand-hustle              1       Grand Hustle  \n",
       "indica:diablo                    2             Diablo  \n",
       "hybrid:birds-of-paradise         1  Birds of Paradise  \n",
       "indica:rockstar                  2           Rockstar  \n",
       "hybrid:royal-kush                1         Royal Kush  \n",
       "hybrid:orange-diesel             1      Orange Diesel  \n",
       "hybrid:panda-og                  1           Panda OG  \n",
       "hybrid:lucid-dream               1        Lucid Dream  "
      ]
     },
     "execution_count": 32,
     "metadata": {},
     "output_type": "execute_result"
    }
   ],
   "source": [
    "for src in source_nodes:\n",
    "    df_nodes.loc[src,'depth']=0\n",
    "df_nodes.sort_values('depth').head(10)"
   ]
  },
  {
   "cell_type": "code",
   "execution_count": 33,
   "metadata": {},
   "outputs": [],
   "source": [
    "while not nx.is_empty(G):\n",
    "    longest_path=nx.dag_longest_path(G)\n",
    "    deepest_node=longest_path[-1]\n",
    "    df_nodes.loc[deepest_node,'depth']=len(longest_path)-1\n",
    "    G.remove_node(deepest_node)"
   ]
  },
  {
   "cell_type": "code",
   "execution_count": 34,
   "metadata": {},
   "outputs": [
    {
     "data": {
      "text/plain": [
       "5     392\n",
       "4     390\n",
       "3     343\n",
       "2     286\n",
       "6     215\n",
       "1     176\n",
       "7     162\n",
       "0     102\n",
       "8      96\n",
       "9      48\n",
       "10      4\n",
       "Name: depth, dtype: int64"
      ]
     },
     "execution_count": 34,
     "metadata": {},
     "output_type": "execute_result"
    }
   ],
   "source": [
    "df_nodes.loc[:,'depth'].value_counts()"
   ]
  },
  {
   "cell_type": "code",
   "execution_count": 35,
   "metadata": {},
   "outputs": [
    {
     "data": {
      "text/plain": [
       "strain_id\n",
       "hybrid:sweet-nina              1\n",
       "indica:hawaiian-purple-kush    3\n",
       "indica:fn-louzer               5\n",
       "indica:murkle                  4\n",
       "hybrid:alf                     7\n",
       "Name: depth, dtype: int64"
      ]
     },
     "execution_count": 35,
     "metadata": {},
     "output_type": "execute_result"
    }
   ],
   "source": [
    "df_nodes.loc[:,'depth'].head()"
   ]
  },
  {
   "cell_type": "code",
   "execution_count": 36,
   "metadata": {},
   "outputs": [],
   "source": [
    "invalid_depths = df_nodes['depth'].value_counts().index.contains(-1)\n",
    "assert (not invalid_depths), \"All nodes must be given a positive depth value\""
   ]
  },
  {
   "cell_type": "code",
   "execution_count": 37,
   "metadata": {},
   "outputs": [
    {
     "data": {
      "text/html": [
       "<div>\n",
       "<style scoped>\n",
       "    .dataframe tbody tr th:only-of-type {\n",
       "        vertical-align: middle;\n",
       "    }\n",
       "\n",
       "    .dataframe tbody tr th {\n",
       "        vertical-align: top;\n",
       "    }\n",
       "\n",
       "    .dataframe thead th {\n",
       "        text-align: right;\n",
       "    }\n",
       "</style>\n",
       "<table border=\"1\" class=\"dataframe\">\n",
       "  <thead>\n",
       "    <tr style=\"text-align: right;\">\n",
       "      <th></th>\n",
       "      <th>source</th>\n",
       "      <th>target</th>\n",
       "      <th>distance</th>\n",
       "    </tr>\n",
       "  </thead>\n",
       "  <tbody>\n",
       "    <tr>\n",
       "      <th>0</th>\n",
       "      <td>indica:hindu-kush</td>\n",
       "      <td>hybrid:sweet-nina</td>\n",
       "      <td>1</td>\n",
       "    </tr>\n",
       "    <tr>\n",
       "      <th>1</th>\n",
       "      <td>sativa:hawaiian</td>\n",
       "      <td>indica:hawaiian-purple-kush</td>\n",
       "      <td>3</td>\n",
       "    </tr>\n",
       "    <tr>\n",
       "      <th>2</th>\n",
       "      <td>indica:purple-kush</td>\n",
       "      <td>indica:hawaiian-purple-kush</td>\n",
       "      <td>1</td>\n",
       "    </tr>\n",
       "    <tr>\n",
       "      <th>3</th>\n",
       "      <td>indica:bloos-kloos</td>\n",
       "      <td>indica:fn-louzer</td>\n",
       "      <td>1</td>\n",
       "    </tr>\n",
       "    <tr>\n",
       "      <th>4</th>\n",
       "      <td>indica:white-rhino</td>\n",
       "      <td>indica:fn-louzer</td>\n",
       "      <td>3</td>\n",
       "    </tr>\n",
       "  </tbody>\n",
       "</table>\n",
       "</div>"
      ],
      "text/plain": [
       "               source                       target  distance\n",
       "0   indica:hindu-kush            hybrid:sweet-nina         1\n",
       "1     sativa:hawaiian  indica:hawaiian-purple-kush         3\n",
       "2  indica:purple-kush  indica:hawaiian-purple-kush         1\n",
       "3  indica:bloos-kloos             indica:fn-louzer         1\n",
       "4  indica:white-rhino             indica:fn-louzer         3"
      ]
     },
     "execution_count": 37,
     "metadata": {},
     "output_type": "execute_result"
    }
   ],
   "source": [
    "def calculate_dist(d):\n",
    "    parent_depth= df_nodes.loc[d['source'],'depth']\n",
    "    child_depth=df_nodes.loc[d['target'],'depth']\n",
    "    return child_depth-parent_depth\n",
    "df_edges2['distance'] = df_edges2.apply(calculate_dist,axis=1)\n",
    "df_edges2.head()"
   ]
  },
  {
   "cell_type": "code",
   "execution_count": 38,
   "metadata": {},
   "outputs": [],
   "source": [
    "# This should be empty:\n",
    "empty = len(df_edges2[df_edges2['distance']<=0])==0\n",
    "assert empty, \"Edges must have positive distances\""
   ]
  },
  {
   "cell_type": "markdown",
   "metadata": {},
   "source": [
    "## Reduce data for purposes of visualization"
   ]
  },
  {
   "cell_type": "code",
   "execution_count": 39,
   "metadata": {},
   "outputs": [],
   "source": [
    "df1 = df0.set_index('strain_id')"
   ]
  },
  {
   "cell_type": "code",
   "execution_count": 40,
   "metadata": {},
   "outputs": [
    {
     "name": "stdout",
     "output_type": "stream",
     "text": [
      "(2214, 7)\n",
      "(2140, 7)\n"
     ]
    },
    {
     "data": {
      "text/html": [
       "<div>\n",
       "<style scoped>\n",
       "    .dataframe tbody tr th:only-of-type {\n",
       "        vertical-align: middle;\n",
       "    }\n",
       "\n",
       "    .dataframe tbody tr th {\n",
       "        vertical-align: top;\n",
       "    }\n",
       "\n",
       "    .dataframe thead th {\n",
       "        text-align: right;\n",
       "    }\n",
       "</style>\n",
       "<table border=\"1\" class=\"dataframe\">\n",
       "  <thead>\n",
       "    <tr style=\"text-align: right;\">\n",
       "      <th></th>\n",
       "      <th>cat_effect</th>\n",
       "      <th>cat_flavor</th>\n",
       "      <th>depth</th>\n",
       "      <th>cat_med</th>\n",
       "      <th>cat_neg</th>\n",
       "      <th>cat_type</th>\n",
       "      <th>name</th>\n",
       "    </tr>\n",
       "    <tr>\n",
       "      <th>strain_id</th>\n",
       "      <th></th>\n",
       "      <th></th>\n",
       "      <th></th>\n",
       "      <th></th>\n",
       "      <th></th>\n",
       "      <th></th>\n",
       "      <th></th>\n",
       "    </tr>\n",
       "  </thead>\n",
       "  <tbody>\n",
       "    <tr>\n",
       "      <th>hybrid:sweet-nina</th>\n",
       "      <td>0</td>\n",
       "      <td>12</td>\n",
       "      <td>1</td>\n",
       "      <td>0</td>\n",
       "      <td>0</td>\n",
       "      <td>1</td>\n",
       "      <td>Sweet Nina</td>\n",
       "    </tr>\n",
       "    <tr>\n",
       "      <th>indica:hawaiian-purple-kush</th>\n",
       "      <td>9</td>\n",
       "      <td>44</td>\n",
       "      <td>3</td>\n",
       "      <td>0</td>\n",
       "      <td>4</td>\n",
       "      <td>2</td>\n",
       "      <td>Hawaiian Purple Kush</td>\n",
       "    </tr>\n",
       "    <tr>\n",
       "      <th>indica:fn-louzer</th>\n",
       "      <td>9</td>\n",
       "      <td>12</td>\n",
       "      <td>5</td>\n",
       "      <td>6</td>\n",
       "      <td>0</td>\n",
       "      <td>2</td>\n",
       "      <td>F'n louZER</td>\n",
       "    </tr>\n",
       "    <tr>\n",
       "      <th>indica:murkle</th>\n",
       "      <td>4</td>\n",
       "      <td>38</td>\n",
       "      <td>4</td>\n",
       "      <td>0</td>\n",
       "      <td>4</td>\n",
       "      <td>2</td>\n",
       "      <td>Murkle</td>\n",
       "    </tr>\n",
       "    <tr>\n",
       "      <th>hybrid:alf</th>\n",
       "      <td>9</td>\n",
       "      <td>12</td>\n",
       "      <td>7</td>\n",
       "      <td>0</td>\n",
       "      <td>4</td>\n",
       "      <td>1</td>\n",
       "      <td>Alf</td>\n",
       "    </tr>\n",
       "  </tbody>\n",
       "</table>\n",
       "</div>"
      ],
      "text/plain": [
       "                             cat_effect  cat_flavor  depth  cat_med  cat_neg  \\\n",
       "strain_id                                                                      \n",
       "hybrid:sweet-nina                     0          12      1        0        0   \n",
       "indica:hawaiian-purple-kush           9          44      3        0        4   \n",
       "indica:fn-louzer                      9          12      5        6        0   \n",
       "indica:murkle                         4          38      4        0        4   \n",
       "hybrid:alf                            9          12      7        0        4   \n",
       "\n",
       "                             cat_type                  name  \n",
       "strain_id                                                    \n",
       "hybrid:sweet-nina                   1            Sweet Nina  \n",
       "indica:hawaiian-purple-kush         2  Hawaiian Purple Kush  \n",
       "indica:fn-louzer                    2            F'n louZER  \n",
       "indica:murkle                       2                Murkle  \n",
       "hybrid:alf                          1                   Alf  "
      ]
     },
     "execution_count": 40,
     "metadata": {},
     "output_type": "execute_result"
    }
   ],
   "source": [
    "# Remove sources with few children\n",
    "# Start by reseting graph\n",
    "G=nx.DiGraph(df_edges2,edge_attr=True)\n",
    "print(df_nodes.shape)\n",
    "df_nodes_out=df_nodes.copy()\n",
    "for strain_id in source_nodes:\n",
    "    degree = G.degree(strain_id)\n",
    "    if degree and degree < 5:\n",
    "        df_nodes_out.drop(index=strain_id,axis=0,inplace=True)\n",
    "for (strain_id,degree) in G.degree:\n",
    "    if not degree:\n",
    "        df_nodes_out.drop(index=strain_id,axis=0,inplace=True)\n",
    "\n",
    "# df_src=df1.loc[source_nodes]\n",
    "# prune_roots=df_src.loc[df_src['num_ratings']<20].index\n",
    "\n",
    "# \n",
    "# df_nodes_out=df_nodes.drop(prune_roots,axis=0)\n",
    "print(df_nodes_out.shape)\n",
    "df_nodes_out.head()"
   ]
  },
  {
   "cell_type": "code",
   "execution_count": 41,
   "metadata": {},
   "outputs": [
    {
     "name": "stdout",
     "output_type": "stream",
     "text": [
      "1433\n"
     ]
    },
    {
     "data": {
      "text/plain": [
       "Index(['hybrid:sweet-nina', 'indica:murkle', 'hybrid:alf',\n",
       "       'hybrid:northern-cross', 'hybrid:damnesia', 'hybrid:loyality',\n",
       "       'indica:sweet-lafayette', 'sativa:alpha-cow', 'hybrid:armagnac',\n",
       "       'indica:bubba-doja',\n",
       "       ...\n",
       "       'sativa:kerosene', 'indica:papas-og', 'sativa:green-goblin',\n",
       "       'hybrid:ice-wreck', 'hybrid:jenny-kush', 'sativa:sun-ra',\n",
       "       'indica:guard-dawg', 'hybrid:honey-bananas', 'sativa:white-buffalo',\n",
       "       'hybrid:boss-og'],\n",
       "      dtype='object', name='strain_id', length=1433)"
      ]
     },
     "execution_count": 41,
     "metadata": {},
     "output_type": "execute_result"
    }
   ],
   "source": [
    "df_leaf=df1.loc[leaf_nodes]\n",
    "cutoff=150\n",
    "prune_leaves=df_leaf.loc[df_leaf['num_ratings']<cutoff].index\n",
    "print(len(prune_leaves))\n",
    "prune_leaves"
   ]
  },
  {
   "cell_type": "code",
   "execution_count": 42,
   "metadata": {},
   "outputs": [
    {
     "name": "stdout",
     "output_type": "stream",
     "text": [
      "(2214, 7)\n",
      "(707, 7)\n"
     ]
    },
    {
     "data": {
      "text/html": [
       "<div>\n",
       "<style scoped>\n",
       "    .dataframe tbody tr th:only-of-type {\n",
       "        vertical-align: middle;\n",
       "    }\n",
       "\n",
       "    .dataframe tbody tr th {\n",
       "        vertical-align: top;\n",
       "    }\n",
       "\n",
       "    .dataframe thead th {\n",
       "        text-align: right;\n",
       "    }\n",
       "</style>\n",
       "<table border=\"1\" class=\"dataframe\">\n",
       "  <thead>\n",
       "    <tr style=\"text-align: right;\">\n",
       "      <th></th>\n",
       "      <th>cat_effect</th>\n",
       "      <th>cat_flavor</th>\n",
       "      <th>depth</th>\n",
       "      <th>cat_med</th>\n",
       "      <th>cat_neg</th>\n",
       "      <th>cat_type</th>\n",
       "      <th>name</th>\n",
       "    </tr>\n",
       "    <tr>\n",
       "      <th>strain_id</th>\n",
       "      <th></th>\n",
       "      <th></th>\n",
       "      <th></th>\n",
       "      <th></th>\n",
       "      <th></th>\n",
       "      <th></th>\n",
       "      <th></th>\n",
       "    </tr>\n",
       "  </thead>\n",
       "  <tbody>\n",
       "    <tr>\n",
       "      <th>indica:hawaiian-purple-kush</th>\n",
       "      <td>9</td>\n",
       "      <td>44</td>\n",
       "      <td>3</td>\n",
       "      <td>0</td>\n",
       "      <td>4</td>\n",
       "      <td>2</td>\n",
       "      <td>Hawaiian Purple Kush</td>\n",
       "    </tr>\n",
       "    <tr>\n",
       "      <th>indica:fn-louzer</th>\n",
       "      <td>9</td>\n",
       "      <td>12</td>\n",
       "      <td>5</td>\n",
       "      <td>6</td>\n",
       "      <td>0</td>\n",
       "      <td>2</td>\n",
       "      <td>F'n louZER</td>\n",
       "    </tr>\n",
       "    <tr>\n",
       "      <th>hybrid:big-skunk-korean</th>\n",
       "      <td>2</td>\n",
       "      <td>14</td>\n",
       "      <td>4</td>\n",
       "      <td>2</td>\n",
       "      <td>4</td>\n",
       "      <td>1</td>\n",
       "      <td>Big Skunk Korean</td>\n",
       "    </tr>\n",
       "    <tr>\n",
       "      <th>hybrid:sunlight-skunk</th>\n",
       "      <td>0</td>\n",
       "      <td>0</td>\n",
       "      <td>3</td>\n",
       "      <td>0</td>\n",
       "      <td>0</td>\n",
       "      <td>1</td>\n",
       "      <td>Sunlight Skunk</td>\n",
       "    </tr>\n",
       "    <tr>\n",
       "      <th>hybrid:white-ryder</th>\n",
       "      <td>0</td>\n",
       "      <td>0</td>\n",
       "      <td>3</td>\n",
       "      <td>0</td>\n",
       "      <td>0</td>\n",
       "      <td>1</td>\n",
       "      <td>White Ryder</td>\n",
       "    </tr>\n",
       "  </tbody>\n",
       "</table>\n",
       "</div>"
      ],
      "text/plain": [
       "                             cat_effect  cat_flavor  depth  cat_med  cat_neg  \\\n",
       "strain_id                                                                      \n",
       "indica:hawaiian-purple-kush           9          44      3        0        4   \n",
       "indica:fn-louzer                      9          12      5        6        0   \n",
       "hybrid:big-skunk-korean               2          14      4        2        4   \n",
       "hybrid:sunlight-skunk                 0           0      3        0        0   \n",
       "hybrid:white-ryder                    0           0      3        0        0   \n",
       "\n",
       "                             cat_type                  name  \n",
       "strain_id                                                    \n",
       "indica:hawaiian-purple-kush         2  Hawaiian Purple Kush  \n",
       "indica:fn-louzer                    2            F'n louZER  \n",
       "hybrid:big-skunk-korean             1      Big Skunk Korean  \n",
       "hybrid:sunlight-skunk               1        Sunlight Skunk  \n",
       "hybrid:white-ryder                  1           White Ryder  "
      ]
     },
     "execution_count": 42,
     "metadata": {},
     "output_type": "execute_result"
    }
   ],
   "source": [
    "print(df_nodes.shape)\n",
    "df_nodes_out.drop(prune_leaves,axis=0,inplace=True)\n",
    "print(df_nodes_out.shape)\n",
    "df_nodes_out.head()"
   ]
  },
  {
   "cell_type": "code",
   "execution_count": 43,
   "metadata": {},
   "outputs": [
    {
     "name": "stdout",
     "output_type": "stream",
     "text": [
      "(707, 7)\n"
     ]
    }
   ],
   "source": [
    "print(df_nodes_out.shape)\n",
    "# Truncate the tree a bit too to reduce clutter - turns out it doesn't remove enough nodes to matter\n",
    "# df_nodes_out.drop(df_nodes_out.loc[df_nodes_out['depth']>11].index,inplace=True)\n",
    "for (strain_id,degree) in G.degree:\n",
    "    if not degree and strain_id in df_nodes_out.index:\n",
    "        df_nodes_out.drop(index=strain_id,axis=0,inplace=True)"
   ]
  },
  {
   "cell_type": "code",
   "execution_count": 44,
   "metadata": {},
   "outputs": [
    {
     "name": "stdout",
     "output_type": "stream",
     "text": [
      "(3914, 3)\n",
      "(1241, 3)\n"
     ]
    },
    {
     "data": {
      "text/html": [
       "<div>\n",
       "<style scoped>\n",
       "    .dataframe tbody tr th:only-of-type {\n",
       "        vertical-align: middle;\n",
       "    }\n",
       "\n",
       "    .dataframe tbody tr th {\n",
       "        vertical-align: top;\n",
       "    }\n",
       "\n",
       "    .dataframe thead th {\n",
       "        text-align: right;\n",
       "    }\n",
       "</style>\n",
       "<table border=\"1\" class=\"dataframe\">\n",
       "  <thead>\n",
       "    <tr style=\"text-align: right;\">\n",
       "      <th></th>\n",
       "      <th>source</th>\n",
       "      <th>target</th>\n",
       "      <th>distance</th>\n",
       "    </tr>\n",
       "  </thead>\n",
       "  <tbody>\n",
       "    <tr>\n",
       "      <th>1</th>\n",
       "      <td>sativa:hawaiian</td>\n",
       "      <td>indica:hawaiian-purple-kush</td>\n",
       "      <td>3</td>\n",
       "    </tr>\n",
       "    <tr>\n",
       "      <th>2</th>\n",
       "      <td>indica:purple-kush</td>\n",
       "      <td>indica:hawaiian-purple-kush</td>\n",
       "      <td>1</td>\n",
       "    </tr>\n",
       "    <tr>\n",
       "      <th>3</th>\n",
       "      <td>indica:bloos-kloos</td>\n",
       "      <td>indica:fn-louzer</td>\n",
       "      <td>1</td>\n",
       "    </tr>\n",
       "    <tr>\n",
       "      <th>4</th>\n",
       "      <td>indica:white-rhino</td>\n",
       "      <td>indica:fn-louzer</td>\n",
       "      <td>3</td>\n",
       "    </tr>\n",
       "    <tr>\n",
       "      <th>14</th>\n",
       "      <td>indica:big-bud</td>\n",
       "      <td>hybrid:big-skunk-korean</td>\n",
       "      <td>1</td>\n",
       "    </tr>\n",
       "  </tbody>\n",
       "</table>\n",
       "</div>"
      ],
      "text/plain": [
       "                source                       target  distance\n",
       "1      sativa:hawaiian  indica:hawaiian-purple-kush         3\n",
       "2   indica:purple-kush  indica:hawaiian-purple-kush         1\n",
       "3   indica:bloos-kloos             indica:fn-louzer         1\n",
       "4   indica:white-rhino             indica:fn-louzer         3\n",
       "14      indica:big-bud      hybrid:big-skunk-korean         1"
      ]
     },
     "execution_count": 44,
     "metadata": {},
     "output_type": "execute_result"
    }
   ],
   "source": [
    "# Remove truncated edges\n",
    "print(df_edges2.shape)\n",
    "df_edges_out=df_edges2[df_edges2.target.isin(df_nodes_out.index)]\n",
    "df_edges_out=df_edges_out[df_edges_out.source.isin(df_nodes_out.index)]\n",
    "print(df_edges_out.shape)\n",
    "df_edges_out.head()"
   ]
  },
  {
   "cell_type": "code",
   "execution_count": 45,
   "metadata": {},
   "outputs": [
    {
     "name": "stdout",
     "output_type": "stream",
     "text": [
      "(707, 7)\n",
      "(700, 7)\n"
     ]
    },
    {
     "data": {
      "text/html": [
       "<div>\n",
       "<style scoped>\n",
       "    .dataframe tbody tr th:only-of-type {\n",
       "        vertical-align: middle;\n",
       "    }\n",
       "\n",
       "    .dataframe tbody tr th {\n",
       "        vertical-align: top;\n",
       "    }\n",
       "\n",
       "    .dataframe thead th {\n",
       "        text-align: right;\n",
       "    }\n",
       "</style>\n",
       "<table border=\"1\" class=\"dataframe\">\n",
       "  <thead>\n",
       "    <tr style=\"text-align: right;\">\n",
       "      <th></th>\n",
       "      <th>cat_effect</th>\n",
       "      <th>cat_flavor</th>\n",
       "      <th>depth</th>\n",
       "      <th>cat_med</th>\n",
       "      <th>cat_neg</th>\n",
       "      <th>cat_type</th>\n",
       "      <th>name</th>\n",
       "    </tr>\n",
       "    <tr>\n",
       "      <th>strain_id</th>\n",
       "      <th></th>\n",
       "      <th></th>\n",
       "      <th></th>\n",
       "      <th></th>\n",
       "      <th></th>\n",
       "      <th></th>\n",
       "      <th></th>\n",
       "    </tr>\n",
       "  </thead>\n",
       "  <tbody>\n",
       "    <tr>\n",
       "      <th>indica:pre-98-bubba-kush</th>\n",
       "      <td>9</td>\n",
       "      <td>13</td>\n",
       "      <td>0</td>\n",
       "      <td>0</td>\n",
       "      <td>4</td>\n",
       "      <td>2</td>\n",
       "      <td>Pre-98 Bubba Kush</td>\n",
       "    </tr>\n",
       "    <tr>\n",
       "      <th>hybrid:the-white</th>\n",
       "      <td>9</td>\n",
       "      <td>32</td>\n",
       "      <td>0</td>\n",
       "      <td>0</td>\n",
       "      <td>5</td>\n",
       "      <td>1</td>\n",
       "      <td>The White</td>\n",
       "    </tr>\n",
       "    <tr>\n",
       "      <th>indica:g-13</th>\n",
       "      <td>9</td>\n",
       "      <td>13</td>\n",
       "      <td>0</td>\n",
       "      <td>0</td>\n",
       "      <td>4</td>\n",
       "      <td>2</td>\n",
       "      <td>G13</td>\n",
       "    </tr>\n",
       "    <tr>\n",
       "      <th>sativa:south-american</th>\n",
       "      <td>7</td>\n",
       "      <td>13</td>\n",
       "      <td>0</td>\n",
       "      <td>0</td>\n",
       "      <td>3</td>\n",
       "      <td>0</td>\n",
       "      <td>South American</td>\n",
       "    </tr>\n",
       "    <tr>\n",
       "      <th>sativa:jamaican</th>\n",
       "      <td>13</td>\n",
       "      <td>13</td>\n",
       "      <td>0</td>\n",
       "      <td>4</td>\n",
       "      <td>3</td>\n",
       "      <td>0</td>\n",
       "      <td>Jamaican</td>\n",
       "    </tr>\n",
       "  </tbody>\n",
       "</table>\n",
       "</div>"
      ],
      "text/plain": [
       "                          cat_effect  cat_flavor  depth  cat_med  cat_neg  \\\n",
       "strain_id                                                                   \n",
       "indica:pre-98-bubba-kush           9          13      0        0        4   \n",
       "hybrid:the-white                   9          32      0        0        5   \n",
       "indica:g-13                        9          13      0        0        4   \n",
       "sativa:south-american              7          13      0        0        3   \n",
       "sativa:jamaican                   13          13      0        4        3   \n",
       "\n",
       "                          cat_type               name  \n",
       "strain_id                                              \n",
       "indica:pre-98-bubba-kush         2  Pre-98 Bubba Kush  \n",
       "hybrid:the-white                 1          The White  \n",
       "indica:g-13                      2                G13  \n",
       "sativa:south-american            0     South American  \n",
       "sativa:jamaican                  0           Jamaican  "
      ]
     },
     "execution_count": 45,
     "metadata": {},
     "output_type": "execute_result"
    }
   ],
   "source": [
    "# Remove any still-dangling vertices\n",
    "G=nx.DiGraph(df_edges_out,edge_attr=True)\n",
    "print(df_nodes_out.shape)\n",
    "for strain_id in df_nodes_out.index:\n",
    "    degree = G.degree(strain_id)\n",
    "    if strain_id in df_nodes_out.index and ((type(degree) != int) or (degree == 0)) :\n",
    "        df_nodes_out.drop(index=strain_id,axis=0,inplace=True)\n",
    "print(df_nodes_out.shape)\n",
    "df_nodes_out.sort_values(by='depth').head()"
   ]
  },
  {
   "cell_type": "code",
   "execution_count": 46,
   "metadata": {},
   "outputs": [
    {
     "name": "stdout",
     "output_type": "stream",
     "text": [
      "(1241, 3)\n",
      "(1241, 3)\n"
     ]
    },
    {
     "data": {
      "text/html": [
       "<div>\n",
       "<style scoped>\n",
       "    .dataframe tbody tr th:only-of-type {\n",
       "        vertical-align: middle;\n",
       "    }\n",
       "\n",
       "    .dataframe tbody tr th {\n",
       "        vertical-align: top;\n",
       "    }\n",
       "\n",
       "    .dataframe thead th {\n",
       "        text-align: right;\n",
       "    }\n",
       "</style>\n",
       "<table border=\"1\" class=\"dataframe\">\n",
       "  <thead>\n",
       "    <tr style=\"text-align: right;\">\n",
       "      <th></th>\n",
       "      <th>source</th>\n",
       "      <th>target</th>\n",
       "      <th>distance</th>\n",
       "    </tr>\n",
       "  </thead>\n",
       "  <tbody>\n",
       "    <tr>\n",
       "      <th>1</th>\n",
       "      <td>sativa:hawaiian</td>\n",
       "      <td>indica:hawaiian-purple-kush</td>\n",
       "      <td>3</td>\n",
       "    </tr>\n",
       "    <tr>\n",
       "      <th>2</th>\n",
       "      <td>indica:purple-kush</td>\n",
       "      <td>indica:hawaiian-purple-kush</td>\n",
       "      <td>1</td>\n",
       "    </tr>\n",
       "    <tr>\n",
       "      <th>3</th>\n",
       "      <td>indica:bloos-kloos</td>\n",
       "      <td>indica:fn-louzer</td>\n",
       "      <td>1</td>\n",
       "    </tr>\n",
       "    <tr>\n",
       "      <th>4</th>\n",
       "      <td>indica:white-rhino</td>\n",
       "      <td>indica:fn-louzer</td>\n",
       "      <td>3</td>\n",
       "    </tr>\n",
       "    <tr>\n",
       "      <th>14</th>\n",
       "      <td>indica:big-bud</td>\n",
       "      <td>hybrid:big-skunk-korean</td>\n",
       "      <td>1</td>\n",
       "    </tr>\n",
       "  </tbody>\n",
       "</table>\n",
       "</div>"
      ],
      "text/plain": [
       "                source                       target  distance\n",
       "1      sativa:hawaiian  indica:hawaiian-purple-kush         3\n",
       "2   indica:purple-kush  indica:hawaiian-purple-kush         1\n",
       "3   indica:bloos-kloos             indica:fn-louzer         1\n",
       "4   indica:white-rhino             indica:fn-louzer         3\n",
       "14      indica:big-bud      hybrid:big-skunk-korean         1"
      ]
     },
     "execution_count": 46,
     "metadata": {},
     "output_type": "execute_result"
    }
   ],
   "source": [
    "# One last cleanup of the edges to be safe\n",
    "print(df_edges_out.shape)\n",
    "df_edges_out=df_edges_out[df_edges_out.target.isin(df_nodes_out.index)]\n",
    "df_edges_out=df_edges_out[df_edges_out.source.isin(df_nodes_out.index)]\n",
    "print(df_edges_out.shape)\n",
    "df_edges_out.head()"
   ]
  },
  {
   "cell_type": "code",
   "execution_count": null,
   "metadata": {},
   "outputs": [],
   "source": []
  },
  {
   "cell_type": "markdown",
   "metadata": {},
   "source": [
    "## Add some Metadata"
   ]
  },
  {
   "cell_type": "code",
   "execution_count": 59,
   "metadata": {},
   "outputs": [
    {
     "data": {
      "text/plain": [
       "Int64Index([0, 3, 4, 5, 10, 6, 12, 11, 1, 9, 7, 2], dtype='int64')"
      ]
     },
     "execution_count": 59,
     "metadata": {},
     "output_type": "execute_result"
    }
   ],
   "source": [
    "# This mess is handled manually in javascript\n",
    "df_nodes_out.cat_med.value_counts().index"
   ]
  },
  {
   "cell_type": "code",
   "execution_count": 58,
   "metadata": {},
   "outputs": [
    {
     "data": {
      "text/plain": [
       "Int64Index([9, 7, 0, 4, 13, 3, 5, 2, 10, 8, 1, 6, 11], dtype='int64')"
      ]
     },
     "execution_count": 58,
     "metadata": {},
     "output_type": "execute_result"
    }
   ],
   "source": [
    "df_nodes_out.cat_effect.value_counts().index"
   ]
  },
  {
   "cell_type": "code",
   "execution_count": 50,
   "metadata": {},
   "outputs": [
    {
     "data": {
      "text/plain": [
       "[10, 8, 1, 6, 11]"
      ]
     },
     "execution_count": 50,
     "metadata": {},
     "output_type": "execute_result"
    }
   ],
   "source": [
    "effects_to_other=list(df_nodes_out.cat_effect.value_counts().tail(len(effects_enum)-9).index.values)\n",
    "effects_to_other"
   ]
  },
  {
   "cell_type": "code",
   "execution_count": 62,
   "metadata": {},
   "outputs": [
    {
     "name": "stdout",
     "output_type": "stream",
     "text": [
      "Updated metadata: \n",
      "{'cat_enums': {'type': ['Sativa', 'Hybrid', 'Indica'], 'effect': ['Anxious', 'Aroused', 'Creative', 'Energetic', 'Euphoric', 'Focused', 'Giggly', 'Happy', 'Hungry', 'Relaxed', 'Sleepy', 'Talkative', 'Tingly', 'Uplifted'], 'neg': ['Dizzy', 'Paranoid', 'Anxious', 'Dry Eyes', 'Dry Mouth', 'Headache'], 'med': ['Stress', 'Inflammation', 'Nausea', 'Pain', 'Depression', 'Insomnia', 'Lack of Appetite', 'Cramps', 'Seizures', 'Muscle Spasms', 'Headaches', 'Fatigue', 'Eye Pressure'], 'flavor': ['Ammonia', 'Apple', 'Apricot', 'Berry', 'Blue Cheese', 'Blueberry', 'Butter', 'Cheese', 'Chemical', 'Chestnut', 'Citrus', 'Coffee', 'Diesel', 'Earthy', 'Flowery', 'Grape', 'Grapefruit', 'Honey', 'Lavender', 'Lemon', 'Lime', 'Mango', 'Menthol', 'Mint', 'Nutty', 'Orange', 'Peach', 'Pear', 'Pepper', 'Pine', 'Pineapple', 'Plum', 'Pungent', 'Rose', 'Sage', 'Skunk', 'Spicy/Herbal', 'Strawberry', 'Sweet', 'Tar', 'Tea', 'Tobacco', 'Tree', 'Fruit', 'Tropical', 'Vanilla', 'Violet', 'Woody']}, 'KeyToHumanReadable': {'type': 'Strain Type', 'main_effect': 'Strongest Effect', 'main_neg': 'Biggest Negative', 'main_med': 'Strongest Medical Property', 'main_flavor': 'Primary Flavor'}, 'cat_enums_len': {'type': 3, 'effect': 14, 'neg': 6, 'med': 13, 'flavor': 48}}\n"
     ]
    }
   ],
   "source": [
    "metadata[\"cat_enums\"]={\"type\":type_enum,\n",
    "                   \"effect\":effects_enum,\n",
    "                    \"neg\":negs_enum,\n",
    "                     \"med\":meds_enum,\n",
    "                      \"flavor\":flavors_enum}\n",
    "metadata[\"KeyToHumanReadable\"]={\"type\":\"Strain Type\",\n",
    "                                \"main_effect\":\"Strongest Effect\",\n",
    "                                \"main_neg\":\"Biggest Negative\",\n",
    "                                \"main_med\":\"Strongest Medical Property\",\n",
    "                                \"main_flavor\":\"Primary Flavor\"}\n",
    "metadata[\"cat_enums_len\"]={\"type\":len(type_cat_enum),\n",
    "                                \"effect\":len(effects_enum),\n",
    "                                \"neg\":len(negs_enum),\n",
    "                                \"med\":len(meds_enum),\n",
    "                                \"flavor\":len(flavors_enum)}\n",
    "print(\"Updated metadata: \")\n",
    "print(metadata)"
   ]
  },
  {
   "cell_type": "markdown",
   "metadata": {},
   "source": [
    "## Write out JSON"
   ]
  },
  {
   "cell_type": "code",
   "execution_count": 63,
   "metadata": {},
   "outputs": [],
   "source": [
    "with open('strains_formatted.json','w') as outfile:\n",
    "         json.dump({\"nodes\":df_nodes_out.reset_index().to_dict(orient='records'), \"links\":df_edges_out.to_dict(orient='records'),\"info\":info,\"metadata\":metadata},outfile)"
   ]
  },
  {
   "cell_type": "markdown",
   "metadata": {},
   "source": [
    "## A look at the results"
   ]
  },
  {
   "cell_type": "code",
   "execution_count": 53,
   "metadata": {},
   "outputs": [
    {
     "data": {
      "text/html": [
       "<div>\n",
       "<style scoped>\n",
       "    .dataframe tbody tr th:only-of-type {\n",
       "        vertical-align: middle;\n",
       "    }\n",
       "\n",
       "    .dataframe tbody tr th {\n",
       "        vertical-align: top;\n",
       "    }\n",
       "\n",
       "    .dataframe thead th {\n",
       "        text-align: right;\n",
       "    }\n",
       "</style>\n",
       "<table border=\"1\" class=\"dataframe\">\n",
       "  <thead>\n",
       "    <tr style=\"text-align: right;\">\n",
       "      <th></th>\n",
       "      <th>cat_effect</th>\n",
       "      <th>cat_flavor</th>\n",
       "      <th>depth</th>\n",
       "      <th>cat_med</th>\n",
       "      <th>cat_neg</th>\n",
       "      <th>cat_type</th>\n",
       "      <th>name</th>\n",
       "    </tr>\n",
       "    <tr>\n",
       "      <th>strain_id</th>\n",
       "      <th></th>\n",
       "      <th></th>\n",
       "      <th></th>\n",
       "      <th></th>\n",
       "      <th></th>\n",
       "      <th></th>\n",
       "      <th></th>\n",
       "    </tr>\n",
       "  </thead>\n",
       "  <tbody>\n",
       "    <tr>\n",
       "      <th>indica:pre-98-bubba-kush</th>\n",
       "      <td>9</td>\n",
       "      <td>13</td>\n",
       "      <td>0</td>\n",
       "      <td>0</td>\n",
       "      <td>4</td>\n",
       "      <td>2</td>\n",
       "      <td>Pre-98 Bubba Kush</td>\n",
       "    </tr>\n",
       "    <tr>\n",
       "      <th>hybrid:the-white</th>\n",
       "      <td>9</td>\n",
       "      <td>32</td>\n",
       "      <td>0</td>\n",
       "      <td>0</td>\n",
       "      <td>5</td>\n",
       "      <td>1</td>\n",
       "      <td>The White</td>\n",
       "    </tr>\n",
       "    <tr>\n",
       "      <th>indica:g-13</th>\n",
       "      <td>9</td>\n",
       "      <td>13</td>\n",
       "      <td>0</td>\n",
       "      <td>0</td>\n",
       "      <td>4</td>\n",
       "      <td>2</td>\n",
       "      <td>G13</td>\n",
       "    </tr>\n",
       "    <tr>\n",
       "      <th>sativa:south-american</th>\n",
       "      <td>7</td>\n",
       "      <td>13</td>\n",
       "      <td>0</td>\n",
       "      <td>0</td>\n",
       "      <td>3</td>\n",
       "      <td>0</td>\n",
       "      <td>South American</td>\n",
       "    </tr>\n",
       "    <tr>\n",
       "      <th>sativa:jamaican</th>\n",
       "      <td>13</td>\n",
       "      <td>13</td>\n",
       "      <td>0</td>\n",
       "      <td>4</td>\n",
       "      <td>3</td>\n",
       "      <td>0</td>\n",
       "      <td>Jamaican</td>\n",
       "    </tr>\n",
       "  </tbody>\n",
       "</table>\n",
       "</div>"
      ],
      "text/plain": [
       "                          cat_effect  cat_flavor  depth  cat_med  cat_neg  \\\n",
       "strain_id                                                                   \n",
       "indica:pre-98-bubba-kush           9          13      0        0        4   \n",
       "hybrid:the-white                   9          32      0        0        5   \n",
       "indica:g-13                        9          13      0        0        4   \n",
       "sativa:south-american              7          13      0        0        3   \n",
       "sativa:jamaican                   13          13      0        4        3   \n",
       "\n",
       "                          cat_type               name  \n",
       "strain_id                                              \n",
       "indica:pre-98-bubba-kush         2  Pre-98 Bubba Kush  \n",
       "hybrid:the-white                 1          The White  \n",
       "indica:g-13                      2                G13  \n",
       "sativa:south-american            0     South American  \n",
       "sativa:jamaican                  0           Jamaican  "
      ]
     },
     "execution_count": 53,
     "metadata": {},
     "output_type": "execute_result"
    }
   ],
   "source": [
    "df_nodes_out.sort_values(by='depth').head()"
   ]
  },
  {
   "cell_type": "code",
   "execution_count": 54,
   "metadata": {},
   "outputs": [
    {
     "data": {
      "text/plain": [
       "0      28\n",
       "1      75\n",
       "2     127\n",
       "3     118\n",
       "4     111\n",
       "5     110\n",
       "6      60\n",
       "7      37\n",
       "8      27\n",
       "9       6\n",
       "10      1\n",
       "Name: depth, dtype: int64"
      ]
     },
     "execution_count": 54,
     "metadata": {},
     "output_type": "execute_result"
    }
   ],
   "source": [
    "df_nodes_out.depth.value_counts(sort=False)"
   ]
  },
  {
   "cell_type": "code",
   "execution_count": 55,
   "metadata": {},
   "outputs": [
    {
     "data": {
      "text/plain": [
       "{'cat_enums': {'type': ['Sativa', 'Hybrid', 'Indica'],\n",
       "  'effect': ['Anxious',\n",
       "   'Aroused',\n",
       "   'Creative',\n",
       "   'Energetic',\n",
       "   'Euphoric',\n",
       "   'Focused',\n",
       "   'Giggly',\n",
       "   'Happy',\n",
       "   'Hungry',\n",
       "   'Relaxed',\n",
       "   'Sleepy',\n",
       "   'Talkative',\n",
       "   'Tingly',\n",
       "   'Uplifted'],\n",
       "  'neg': ['Dizzy', 'Paranoid', 'Anxious', 'Dry Eyes', 'Dry Mouth', 'Headache'],\n",
       "  'med': ['Stress',\n",
       "   'Inflammation',\n",
       "   'Nausea',\n",
       "   'Pain',\n",
       "   'Depression',\n",
       "   'Insomnia',\n",
       "   'Lack of Appetite',\n",
       "   'Cramps',\n",
       "   'Seizures',\n",
       "   'Muscle Spasms',\n",
       "   'Headaches',\n",
       "   'Fatigue',\n",
       "   'Eye Pressure'],\n",
       "  'flavor': ['Ammonia',\n",
       "   'Apple',\n",
       "   'Apricot',\n",
       "   'Berry',\n",
       "   'Blue Cheese',\n",
       "   'Blueberry',\n",
       "   'Butter',\n",
       "   'Cheese',\n",
       "   'Chemical',\n",
       "   'Chestnut',\n",
       "   'Citrus',\n",
       "   'Coffee',\n",
       "   'Diesel',\n",
       "   'Earthy',\n",
       "   'Flowery',\n",
       "   'Grape',\n",
       "   'Grapefruit',\n",
       "   'Honey',\n",
       "   'Lavender',\n",
       "   'Lemon',\n",
       "   'Lime',\n",
       "   'Mango',\n",
       "   'Menthol',\n",
       "   'Mint',\n",
       "   'Nutty',\n",
       "   'Orange',\n",
       "   'Peach',\n",
       "   'Pear',\n",
       "   'Pepper',\n",
       "   'Pine',\n",
       "   'Pineapple',\n",
       "   'Plum',\n",
       "   'Pungent',\n",
       "   'Rose',\n",
       "   'Sage',\n",
       "   'Skunk',\n",
       "   'Spicy/Herbal',\n",
       "   'Strawberry',\n",
       "   'Sweet',\n",
       "   'Tar',\n",
       "   'Tea',\n",
       "   'Tobacco',\n",
       "   'Tree',\n",
       "   'Fruit',\n",
       "   'Tropical',\n",
       "   'Vanilla',\n",
       "   'Violet',\n",
       "   'Woody']},\n",
       " 'KeyToHumanReadable': {'type': 'Strain Type',\n",
       "  'main_effect': 'Strongest Effect',\n",
       "  'main_neg': 'Biggest Negative',\n",
       "  'main_med': 'Strongest Medical Property',\n",
       "  'main_flavor': 'Primary Flavor'}}"
      ]
     },
     "execution_count": 55,
     "metadata": {},
     "output_type": "execute_result"
    }
   ],
   "source": [
    "metadata"
   ]
  },
  {
   "cell_type": "code",
   "execution_count": null,
   "metadata": {},
   "outputs": [],
   "source": []
  },
  {
   "cell_type": "code",
   "execution_count": 56,
   "metadata": {},
   "outputs": [
    {
     "data": {
      "text/plain": [
       "0     429\n",
       "1       4\n",
       "2       3\n",
       "3     106\n",
       "4      99\n",
       "5      24\n",
       "6       9\n",
       "7       3\n",
       "9       3\n",
       "10      9\n",
       "11      4\n",
       "12      7\n",
       "Name: cat_med, dtype: int64"
      ]
     },
     "execution_count": 56,
     "metadata": {},
     "output_type": "execute_result"
    }
   ],
   "source": [
    "df_nodes_out.cat_med.value_counts(sort=False)"
   ]
  },
  {
   "cell_type": "code",
   "execution_count": null,
   "metadata": {},
   "outputs": [],
   "source": []
  }
 ],
 "metadata": {
  "kernelspec": {
   "display_name": "Python 3",
   "language": "python",
   "name": "python3"
  },
  "language_info": {
   "codemirror_mode": {
    "name": "ipython",
    "version": 3
   },
   "file_extension": ".py",
   "mimetype": "text/x-python",
   "name": "python",
   "nbconvert_exporter": "python",
   "pygments_lexer": "ipython3",
   "version": "3.7.2"
  }
 },
 "nbformat": 4,
 "nbformat_minor": 2
}
